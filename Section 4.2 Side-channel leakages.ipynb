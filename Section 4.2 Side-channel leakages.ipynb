{
 "cells": [
  {
   "cell_type": "markdown",
   "id": "c720d674",
   "metadata": {},
   "source": [
    "# Experiments for Section 4.2"
   ]
  },
  {
   "cell_type": "code",
   "execution_count": 1,
   "id": "36b9ea60",
   "metadata": {},
   "outputs": [],
   "source": [
    "#imports\n",
    "import numpy as np\n",
    "import matplotlib.pyplot as plt\n",
    "import statistics\n",
    "import random\n",
    "import math\n",
    "\n",
    "# Hamming weights of numbers 0-15\n",
    "HW = [0,1,1,2,1,2,2,3,1,2,2,3,2,3,3,4]\n",
    "\n",
    "# PRESENT Sbox\n",
    "S = [12,5,6,11,9,0,10,13,3,14,15,8,4,7,1,2]"
   ]
  },
  {
   "cell_type": "code",
   "execution_count": 2,
   "id": "829bd5d3",
   "metadata": {},
   "outputs": [],
   "source": [
    "#Load data from fixed dataset A\n",
    "#Loading file_no_fixed traces to the variable traces_fixed and the corresponding plaintexts to the variable $\\textit{plaintexts}$\n",
    "file_no_fixed = 5000\n",
    "traces_fixed = []\n",
    "plaintexts_fixed = []\n",
    "\n",
    "for i in range(file_no_fixed):\n",
    "    with open('fixed_dataset_1/trace_'+str(i)+'.txt') as f:\n",
    "        lines = f.read().splitlines()\n",
    "        traces_fixed.append(lines)\n",
    "\n",
    "with open('fixed_dataset_1/plaintexts.txt') as f:\n",
    "    plaintexts_fixed = f.read().splitlines()\n",
    "    \n",
    "trace_array_fixed = np.array(traces_fixed)\n",
    "trace_array_fixed = trace_array_fixed.astype(float)\n",
    "q = 5000 #number of time samples"
   ]
  },
  {
   "cell_type": "code",
   "execution_count": 94,
   "id": "54df2dac",
   "metadata": {},
   "outputs": [],
   "source": [
    "#load data from fixed dataset B\n",
    "file_no_fixed_2 = 5000\n",
    "traces_fixed_2 = []\n",
    "plaintexts_fixed_2 = []\n",
    "\n",
    "for i in range(file_no_fixed_2):\n",
    "    with open('fixed_dataset_2/trace_'+str(i)+'.txt') as f:\n",
    "        lines = f.read().splitlines()\n",
    "        traces_fixed_2.append(lines)\n",
    "\n",
    "with open('fixed_dataset_2/plaintexts.txt') as f:\n",
    "    plaintexts_fixed_2 = f.read().splitlines()\n",
    "    \n",
    "trace_array_fixed_2 = np.array(traces_fixed_2)\n",
    "trace_array_fixed_2 = trace_array_fixed_2.astype(float)"
   ]
  },
  {
   "cell_type": "code",
   "execution_count": 3,
   "id": "d7a82323",
   "metadata": {},
   "outputs": [],
   "source": [
    "#Load data from the \"random plaintext dataset\"\n",
    "file_no = 5000\n",
    "traces = []\n",
    "plaintexts = []\n",
    "\n",
    "for i in range(file_no):\n",
    "    with open('random_pt_dataset/trace_'+str(i)+'.txt') as f:\n",
    "        lines = f.read().splitlines()\n",
    "        traces.append(lines)\n",
    "\n",
    "with open('random_pt_dataset/plaintexts.txt') as f:\n",
    "    plaintexts = f.read().splitlines()\n",
    "    \n",
    "trace_array = np.array(traces)\n",
    "trace_array = trace_array.astype(float)\n",
    "\n",
    "#the 0th key nibble used for random plaintext dataset\n",
    "correct_key = 9\n",
    "\n",
    "#extract the plaintext nibble\n",
    "plaintext_array = []\n",
    "for i in range(file_no):\n",
    "    plaintext_array.append(int(plaintexts[i][15],16))\n",
    "plaintext_array = np.array(plaintext_array)\n"
   ]
  },
  {
   "cell_type": "code",
   "execution_count": 4,
   "id": "0c8782ab",
   "metadata": {},
   "outputs": [],
   "source": [
    "#Loading data from the random dataset\n",
    "file_no_rk = 10000\n",
    "traces_rk = []\n",
    "plaintexts_rk = []\n",
    "keys_rk = []\n",
    "\n",
    "for i in range(file_no_rk):\n",
    "    with open('random_dataset/trace_'+str(i)+'.txt') as f:\n",
    "        lines = f.read().splitlines()\n",
    "        traces_rk.append(lines)\n",
    "\n",
    "with open('random_dataset/plaintexts.txt') as f:\n",
    "    plaintexts_rk = f.read().splitlines()\n",
    "\n",
    "with open('random_dataset/keys.txt') as f:\n",
    "    keys_rk = f.read().splitlines()\n",
    "\n",
    "trace_array_rk = np.array(traces_rk)\n",
    "trace_array_rk = trace_array_rk.astype(float)\n",
    "\n",
    "#extract the plaintext nibble\n",
    "plaintext_array_rk = []\n",
    "for i in range(file_no_rk):\n",
    "    plaintext_array_rk.append(int(plaintexts_rk[i][15],16))\n",
    "plaintext_array_rk = np.array(plaintext_array_rk)\n",
    "\n",
    "\n",
    "#extract the key nibble\n",
    "keys_array_rk = []\n",
    "for i in range(file_no_rk):\n",
    "    keys_array_rk.append(int(keys_rk[i][15],16))\n",
    "keys_array_rk = np.array(keys_array_rk)"
   ]
  },
  {
   "cell_type": "code",
   "execution_count": 5,
   "id": "c040b9c5",
   "metadata": {},
   "outputs": [],
   "source": [
    "#save data to file for tikz plot\n",
    "def savetofile(filename,array):\n",
    "    f = open(filename+\".txt\", \"w\")\n",
    "    f.write(\"x y\\n\")\n",
    "    i = 0\n",
    "    for i in range(len(array)):\n",
    "        f.write(str(i)+\" \"+str(array[i])+\"\\n\")\n",
    "        i+=1\n",
    "    f.close()"
   ]
  },
  {
   "cell_type": "code",
   "execution_count": 11,
   "id": "7bebb31d",
   "metadata": {},
   "outputs": [],
   "source": [
    "def highest_tree_points(array):\n",
    "    array_abs = [abs(a) for a in array]\n",
    "    ind = np.argpartition(array_abs, -3)[-3:]\n",
    "    print(ind)\n",
    "    array_abs = np.array(array_abs)\n",
    "    print(array_abs[ind])\n",
    "    return"
   ]
  },
  {
   "cell_type": "markdown",
   "id": "9232dd6e",
   "metadata": {},
   "source": [
    "## Drawing histograms"
   ]
  },
  {
   "cell_type": "code",
   "execution_count": 22,
   "id": "c0735880",
   "metadata": {},
   "outputs": [],
   "source": [
    "#compute the averaged trace for Fixed dataset A\n",
    "averaged = trace_array_fixed.mean(axis=0)\n",
    "\n",
    "#save the averaged trace to file\n",
    "savetofile(\"present1round_avg\",averaged)"
   ]
  },
  {
   "cell_type": "code",
   "execution_count": 23,
   "id": "d8e18b28",
   "metadata": {},
   "outputs": [
    {
     "data": {
      "image/png": "[encoded data removed]",
      "text/plain": [
       "<Figure size 432x288 with 1 Axes>"
      ]
     },
     "metadata": {
      "needs_background": "light"
     },
     "output_type": "display_data"
    }
   ],
   "source": [
    "#Plot the averaged trace\n",
    "plt.plot(averaged)\n",
    "plt.show()"
   ]
  },
  {
   "cell_type": "code",
   "execution_count": 35,
   "id": "a554e21d",
   "metadata": {},
   "outputs": [],
   "source": [
    "#print the histogram\n",
    "def printHistogram(t,number_of_bins,traces):\n",
    "    #Collect the data from each trace for the time sample t\n",
    "    L = []\n",
    "    sample_size = len(traces)\n",
    "    for trace in range(sample_size):\n",
    "        L.append(traces[trace][t])\n",
    "    \n",
    "    hist = np.histogram(L,bins=number_of_bins)\n",
    "    i = 0\n",
    "    for a in hist[0]:\n",
    "        print(\"(\"+str(hist[1][i])+\",\"+str(a)+\")\")\n",
    "        i+=1\n",
    "    return"
   ]
  },
  {
   "cell_type": "code",
   "execution_count": 36,
   "id": "c83e2f30",
   "metadata": {},
   "outputs": [],
   "source": [
    "#plot histogram for a given time sample and specified number of bins for the histogram\n",
    "def plotHistogram(t,number_of_bins,traces):\n",
    "    #Collect the data from each trace for the time sample t\n",
    "    L = []\n",
    "    sample_size = len(traces)\n",
    "    for trace in range(sample_size):\n",
    "        L.append(traces[trace][t])\n",
    "    \n",
    "    #plot histogram for a fixed time sample t\n",
    "    plt.hist(L, bins=number_of_bins)\n",
    "    plt.show()\n",
    "    printHistogram(t,number_of_bins,traces)\n",
    "    return"
   ]
  },
  {
   "cell_type": "code",
   "execution_count": 84,
   "id": "c28d3c85",
   "metadata": {},
   "outputs": [
    {
     "data": {
      "image/png": "[encoded data removed]",
      "text/plain": [
       "<Figure size 432x288 with 1 Axes>"
      ]
     },
     "metadata": {
      "needs_background": "light"
     },
     "output_type": "display_data"
    },
    {
     "name": "stdout",
     "output_type": "stream",
     "text": [
      "(0.03515625,1)\n",
      "(0.036078559027777776,17)\n",
      "(0.03700086805555555,55)\n",
      "(0.037923177083333336,90)\n",
      "(0.03884548611111111,155)\n",
      "(0.03976779513888889,300)\n",
      "(0.040690104166666664,473)\n",
      "(0.04161241319444445,649)\n",
      "(0.042534722222222224,645)\n",
      "(0.04345703125,809)\n",
      "(0.044379340277777776,683)\n",
      "(0.04530164930555555,519)\n",
      "(0.04622395833333333,306)\n",
      "(0.04714626736111111,192)\n",
      "(0.04806857638888889,77)\n",
      "(0.048990885416666664,20)\n",
      "(0.04991319444444445,8)\n",
      "(0.050835503472222224,1)\n"
     ]
    }
   ],
   "source": [
    "#plot histogram for time sample t=3500, which corresponds to NOP operations\n",
    "plotHistogram(3520,18,trace_array_fixed)"
   ]
  },
  {
   "cell_type": "code",
   "execution_count": 27,
   "id": "124e0b26",
   "metadata": {},
   "outputs": [
    {
     "name": "stdout",
     "output_type": "stream",
     "text": [
      "2368 0.2132193359375\n"
     ]
    }
   ],
   "source": [
    "#find the maximum point in the averaged trace\n",
    "max = 0\n",
    "max_i = 0\n",
    "for i in range(5000):\n",
    "    if averaged[i]>max:\n",
    "        max_i = i\n",
    "        max = averaged[i]\n",
    "    i+=1\n",
    "print(str(max_i)+\" \"+str(averaged[max_i]))"
   ]
  },
  {
   "cell_type": "code",
   "execution_count": 80,
   "id": "7a86ead2",
   "metadata": {},
   "outputs": [
    {
     "data": {
      "image/png": "[encoded data removed]",
      "text/plain": [
       "<Figure size 432x288 with 1 Axes>"
      ]
     },
     "metadata": {
      "needs_background": "light"
     },
     "output_type": "display_data"
    },
    {
     "name": "stdout",
     "output_type": "stream",
     "text": [
      "(0.2021484375,1)\n",
      "(0.20308061079545456,0)\n",
      "(0.2040127840909091,3)\n",
      "(0.20494495738636365,10)\n",
      "(0.20587713068181818,37)\n",
      "(0.20680930397727273,64)\n",
      "(0.20774147727272727,159)\n",
      "(0.20867365056818182,239)\n",
      "(0.20960582386363635,404)\n",
      "(0.2105379971590909,462)\n",
      "(0.21147017045454547,515)\n",
      "(0.21240234375,661)\n",
      "(0.21333451704545456,715)\n",
      "(0.2142666903409091,510)\n",
      "(0.21519886363636365,482)\n",
      "(0.21613103693181818,337)\n",
      "(0.21706321022727273,213)\n",
      "(0.21799538352272727,107)\n",
      "(0.21892755681818182,51)\n",
      "(0.21985973011363635,19)\n",
      "(0.2207919034090909,9)\n",
      "(0.22172407670454547,2)\n"
     ]
    }
   ],
   "source": [
    "#plot histogram for time sample t=2368, which corresponds to the highest point in the average trace\n",
    "plotHistogram(2368,22,trace_array_fixed)"
   ]
  },
  {
   "cell_type": "code",
   "execution_count": 79,
   "id": "3432aa1d",
   "metadata": {},
   "outputs": [
    {
     "data": {
      "image/png": "[encoded data removed]",
      "text/plain": [
       "<Figure size 432x288 with 1 Axes>"
      ]
     },
     "metadata": {
      "needs_background": "light"
     },
     "output_type": "display_data"
    },
    {
     "name": "stdout",
     "output_type": "stream",
     "text": [
      "(-0.0576171875,4)\n",
      "(-0.056685014204545456,23)\n",
      "(-0.05575284090909091,75)\n",
      "(-0.05482066761363636,147)\n",
      "(-0.053888494318181816,295)\n",
      "(-0.05295632102272727,323)\n",
      "(-0.05202414772727273,409)\n",
      "(-0.051091974431818184,380)\n",
      "(-0.05015980113636363,517)\n",
      "(-0.04922762784090909,558)\n",
      "(-0.048295454545454544,592)\n",
      "(-0.04736328125,354)\n",
      "(-0.046431107954545456,467)\n",
      "(-0.04549893465909091,328)\n",
      "(-0.04456676136363637,216)\n",
      "(-0.043634588068181816,134)\n",
      "(-0.04270241477272727,93)\n",
      "(-0.04177024147727273,57)\n",
      "(-0.04083806818181818,21)\n",
      "(-0.03990589488636363,6)\n",
      "(-0.03897372159090909,0)\n",
      "(-0.038041548295454544,1)\n"
     ]
    }
   ],
   "source": [
    "#plot histogram for time sample t=392 for random plaintext dataset\n",
    "plotHistogram(392,22,trace_array)"
   ]
  },
  {
   "cell_type": "code",
   "execution_count": 77,
   "id": "14ea3738",
   "metadata": {},
   "outputs": [
    {
     "data": {
      "image/png": "[encoded data removed]",
      "text/plain": [
       "<Figure size 432x288 with 1 Axes>"
      ]
     },
     "metadata": {
      "needs_background": "light"
     },
     "output_type": "display_data"
    },
    {
     "name": "stdout",
     "output_type": "stream",
     "text": [
      "(-0.0615234375,1)\n",
      "(-0.060506184895833336,0)\n",
      "(-0.059488932291666664,4)\n",
      "(-0.0584716796875,15)\n",
      "(-0.057454427083333336,46)\n",
      "(-0.056437174479166664,143)\n",
      "(-0.055419921875,248)\n",
      "(-0.054402669270833336,510)\n",
      "(-0.053385416666666664,735)\n",
      "(-0.0523681640625,852)\n",
      "(-0.05135091145833333,739)\n",
      "(-0.050333658854166664,969)\n",
      "(-0.04931640625,1085)\n",
      "(-0.04829915364583333,1176)\n",
      "(-0.047281901041666664,836)\n",
      "(-0.0462646484375,921)\n",
      "(-0.04524739583333333,675)\n",
      "(-0.044230143229166664,438)\n",
      "(-0.043212890625,242)\n",
      "(-0.04219563802083333,198)\n",
      "(-0.041178385416666664,102)\n",
      "(-0.0401611328125,46)\n",
      "(-0.03914388020833333,14)\n",
      "(-0.038126627604166664,5)\n"
     ]
    }
   ],
   "source": [
    "#plot histogram for time sample t=392 for random dataset\n",
    "plotHistogram(392,24,trace_array_rk)"
   ]
  },
  {
   "cell_type": "markdown",
   "id": "58f82fd3",
   "metadata": {},
   "source": [
    "## Sample mean and sample variance computation"
   ]
  },
  {
   "cell_type": "code",
   "execution_count": 123,
   "id": "ecdedd32",
   "metadata": {},
   "outputs": [],
   "source": [
    "#compute mean and varaince given the sample\n",
    "def computeMeanVar(L):\n",
    "    #mean of L\n",
    "    print(\"Mean of the sample is % s \" %(statistics.mean(L))) \n",
    "\n",
    "    #variance of L\n",
    "    print(\"Variance of the sample is % s \" %(statistics.variance(L))) \n",
    "    return "
   ]
  },
  {
   "cell_type": "code",
   "execution_count": 124,
   "id": "aac3e4ce",
   "metadata": {},
   "outputs": [
    {
     "name": "stdout",
     "output_type": "stream",
     "text": [
      "Mean of the sample is 0.2132193359375 \n",
      "Variance of the sample is 8.519637238910185e-06 \n"
     ]
    }
   ],
   "source": [
    "#Compute the sample mean and sample variance for leakages at time sample t=2368\n",
    "#find all leakages at t=2368\n",
    "t = 2368\n",
    "Lt = []\n",
    "for i in range(file_no_fixed):#for each leakage trace\n",
    "    Lt.append(trace_array_fixed[i][t])\n",
    "computeMeanVar(Lt)"
   ]
  },
  {
   "cell_type": "code",
   "execution_count": 125,
   "id": "13e4d9e9",
   "metadata": {},
   "outputs": [
    {
     "name": "stdout",
     "output_type": "stream",
     "text": [
      "Mean of the sample is -0.05252890625 \n",
      "Variance of the sample is 1.5141004275073765e-06 \n"
     ]
    }
   ],
   "source": [
    "#Compute the sample mean and sample variance for leakages at time sample t=2368\n",
    "#find all leakages at t=2368\n",
    "t = 392\n",
    "L392 = []\n",
    "for i in range(file_no_fixed):#for each leakage trace\n",
    "    L392.append(trace_array_fixed[i][t])\n",
    "computeMeanVar(L392)"
   ]
  },
  {
   "cell_type": "code",
   "execution_count": 126,
   "id": "2659ba7f",
   "metadata": {},
   "outputs": [
    {
     "name": "stdout",
     "output_type": "stream",
     "text": [
      "Mean of the sample is 0.2133837890625 \n",
      "Variance of the sample is 8.619864193480786e-06 \n"
     ]
    }
   ],
   "source": [
    "#Compute the sample mean and sample variance for leakages at time sample t=2368 for fixed dataset B\n",
    "\n",
    "#find all leakages at t\n",
    "t = 2368\n",
    "Lt_2 = []\n",
    "for i in range(file_no_fixed_2):#for each leakage trace\n",
    "    Lt_2.append(trace_array_fixed_2[i][t])\n",
    "\n",
    "computeMeanVar(Lt_2)"
   ]
  },
  {
   "cell_type": "code",
   "execution_count": 127,
   "id": "f78d0673",
   "metadata": {},
   "outputs": [
    {
     "name": "stdout",
     "output_type": "stream",
     "text": [
      "Mean of the sample is -0.0500572265625 \n",
      "Variance of the sample is 1.4801372979063586e-06 \n"
     ]
    }
   ],
   "source": [
    "#Compute the sample mean and sample variance for leakages at time sample t=392 for fixed dataset B\n",
    "#find all leakages at t\n",
    "t = 392\n",
    "L392_2 = []\n",
    "for i in range(file_no_fixed_2):#for each leakage trace\n",
    "    L392_2.append(trace_array_fixed_2[i][t])\n",
    "\n",
    "computeMeanVar(L392_2)"
   ]
  },
  {
   "cell_type": "code",
   "execution_count": 128,
   "id": "213d4ac9",
   "metadata": {},
   "outputs": [
    {
     "name": "stdout",
     "output_type": "stream",
     "text": [
      "Mean of the sample is -0.0487564453125 \n",
      "Variance of the sample is 1.170012105295815e-05 \n"
     ]
    }
   ],
   "source": [
    "#Compute the sample mean and sample variance for leakages at time sample t=392 for random plaintext dataset\n",
    "t = 392\n",
    "L392_r = []\n",
    "for i in range(file_no):\n",
    "    L392_r.append(trace_array[i][t])\n",
    "\n",
    "computeMeanVar(L392_r)"
   ]
  },
  {
   "cell_type": "markdown",
   "id": "54d9cffe",
   "metadata": {},
   "source": [
    "## TVLA"
   ]
  },
  {
   "cell_type": "code",
   "execution_count": 95,
   "id": "a8ba29fb",
   "metadata": {},
   "outputs": [
    {
     "name": "stdout",
     "output_type": "stream",
     "text": [
      "significance level = 3.3976731247387093e-06\n"
     ]
    }
   ],
   "source": [
    "import scipy.stats as st\n",
    "threshold = 4.5\n",
    "alpha = 1-st.norm.cdf(threshold)\n",
    "print(\"significance level = \" + str(alpha))"
   ]
  },
  {
   "cell_type": "code",
   "execution_count": 118,
   "id": "40cf9e4a",
   "metadata": {},
   "outputs": [],
   "source": [
    "def TVLA(number_of_traces,trace_array1,trace_array2,filename):\n",
    "    #compute the t-value for all time samples\n",
    "    ind = [i for i in range(number_of_traces)]\n",
    "    trace_1 = trace_array1[ind]\n",
    "    trace_2 = trace_array2[ind]\n",
    "    #sample means for dataset one and dataset two at each time sample\n",
    "    mean1 = trace_1.mean(axis=0)\n",
    "    mean2 = trace_2.mean(axis=0)\n",
    "    print(\"sample mean for dataset one at POI=392: \" + str(mean1[392]))\n",
    "    print(\"sample mean for dataset two at POI=392: \" + str(mean2[392]))\n",
    "    meandif = mean1 - mean2\n",
    "    numerator = np.multiply(meandif,np.sqrt(number_of_traces))\n",
    "    \n",
    "    #variance for leakages at each time sample\n",
    "    var1 = trace_1.var(axis=0)\n",
    "    var2 = trace_2.var(axis=0)\n",
    "    #sample variance for dataset one and dataset two at each time sample\n",
    "    scale = number_of_traces/(number_of_traces-1)#sample variance divide by sample_size -1 instead of sample_size\n",
    "    var1 = np.multiply(var1,scale)\n",
    "    var2 = np.multiply(var2,scale)\n",
    "    print(\"sample variance for dataset one at POI=392: \" + str(var1[392]))\n",
    "    print(\"sample variance for dataset two at POI=392: \" + str(var2[392]))\n",
    "    tvla = []\n",
    "    for t in range(q):\n",
    "        tvalue = numerator[t]/np.sqrt(var1[t]+var2[t])\n",
    "        tvla.append(tvalue)\n",
    "    savetofile(\"TVLA/\"+filename+str(number_of_traces),tvla)\n",
    "    plt.plot(tvla)\n",
    "    plt.show()\n",
    "    print(\"highest three points\")\n",
    "    highest_tree_points(tvla)\n",
    "    print(\"tvla at POI=392: \" + str(tvla[392]))\n",
    "    return"
   ]
  },
  {
   "cell_type": "code",
   "execution_count": 119,
   "id": "abc9fefd",
   "metadata": {},
   "outputs": [
    {
     "name": "stdout",
     "output_type": "stream",
     "text": [
      "sample mean for dataset one at POI=392: -0.051953125\n",
      "sample mean for dataset two at POI=392: -0.04931640625\n",
      "sample variance for dataset one at POI=392: 6.228077168367354e-07\n",
      "sample variance for dataset two at POI=392: 9.43942945830676e-07\n"
     ]
    },
    {
     "data": {
      "image/png": "[encoded data removed]",
      "text/plain": [
       "<Figure size 432x288 with 1 Axes>"
      ]
     },
     "metadata": {
      "needs_background": "light"
     },
     "output_type": "display_data"
    },
    {
     "name": "stdout",
     "output_type": "stream",
     "text": [
      "highest three points\n",
      "[524 560 572]\n",
      "[52.94995832 64.909775   64.48573966]\n",
      "tvla at POI=392: -14.895286677919014\n"
     ]
    }
   ],
   "source": [
    "TVLA(50,trace_array_fixed,trace_array_fixed_2,\"tvlafixed_\")"
   ]
  },
  {
   "cell_type": "code",
   "execution_count": 120,
   "id": "22b78e1e",
   "metadata": {},
   "outputs": [
    {
     "name": "stdout",
     "output_type": "stream",
     "text": [
      "sample mean for dataset one at POI=392: -0.05252890625\n",
      "sample mean for dataset two at POI=392: -0.0500572265625\n",
      "sample variance for dataset one at POI=392: 1.514100427507311e-06\n",
      "sample variance for dataset two at POI=392: 1.4801372979063082e-06\n"
     ]
    },
    {
     "data": {
      "image/png": "[encoded data removed]",
      "text/plain": [
       "<Figure size 432x288 with 1 Axes>"
      ]
     },
     "metadata": {
      "needs_background": "light"
     },
     "output_type": "display_data"
    },
    {
     "name": "stdout",
     "output_type": "stream",
     "text": [
      "highest three points\n",
      "[524 572 560]\n",
      "[411.70137949 502.82954864 474.76808986]\n",
      "tvla at POI=392: -101.00294844381902\n"
     ]
    }
   ],
   "source": [
    "TVLA(5000,trace_array_fixed,trace_array_fixed_2, \"tvlafixed_\")"
   ]
  },
  {
   "cell_type": "code",
   "execution_count": 121,
   "id": "5d15f66e",
   "metadata": {
    "scrolled": false
   },
   "outputs": [
    {
     "name": "stdout",
     "output_type": "stream",
     "text": [
      "sample mean for dataset one at POI=392: -0.051953125\n",
      "sample mean for dataset two at POI=392: -0.0482421875\n",
      "sample variance for dataset one at POI=392: 6.228077168367354e-07\n",
      "sample variance for dataset two at POI=392: 1.3117887535873727e-05\n"
     ]
    },
    {
     "data": {
      "image/png": "[encoded data removed]",
      "text/plain": [
       "<Figure size 432x288 with 1 Axes>"
      ]
     },
     "metadata": {
      "needs_background": "light"
     },
     "output_type": "display_data"
    },
    {
     "name": "stdout",
     "output_type": "stream",
     "text": [
      "highest three points\n",
      "[237 524 512]\n",
      "[13.29691246 14.4564343  13.59092314]\n",
      "tvla at POI=392: -7.078875728984255\n"
     ]
    }
   ],
   "source": [
    "TVLA(50,trace_array_fixed,trace_array, \"tvlarandom_\");"
   ]
  },
  {
   "cell_type": "code",
   "execution_count": 122,
   "id": "33b10769",
   "metadata": {},
   "outputs": [
    {
     "name": "stdout",
     "output_type": "stream",
     "text": [
      "sample mean for dataset one at POI=392: -0.05252890625\n",
      "sample mean for dataset two at POI=392: -0.0487564453125\n",
      "sample variance for dataset one at POI=392: 1.514100427507311e-06\n",
      "sample variance for dataset two at POI=392: 1.1700121052957991e-05\n"
     ]
    },
    {
     "data": {
      "image/png": "[encoded data removed]",
      "text/plain": [
       "<Figure size 432x288 with 1 Axes>"
      ]
     },
     "metadata": {
      "needs_background": "light"
     },
     "output_type": "display_data"
    },
    {
     "name": "stdout",
     "output_type": "stream",
     "text": [
      "highest three points\n",
      "[512 524 572]\n",
      "[126.23705487 133.74988423 134.26819177]\n",
      "tvla at POI=392: -73.38190178409614\n"
     ]
    }
   ],
   "source": [
    "TVLA(5000,trace_array_fixed,trace_array, \"tvlarandom_\")"
   ]
  },
  {
   "cell_type": "code",
   "execution_count": 135,
   "id": "b02e41a1",
   "metadata": {},
   "outputs": [],
   "source": [
    "#compute tvla, taking signal to be given by sbox output\n",
    "#t-test: student's t-test or welch's t-test\n",
    "    #ttest = 0 -- fixed vs fixed, we use student's t-test\n",
    "    #ttest = 1 -- fixed vs random, we use welch's t-test\n",
    "#M1 M2: number of samples in dataset one and dataset two. If equal to 0, then take all traces available\n",
    "def tvla_sbox(filename,ttest,fixedvalue1,fixedvalue2,M1,M2):\n",
    "    trace_1=[]\n",
    "    trace_2=[]\n",
    "    for j in range(file_no_rk):\n",
    "        #compute the intermediate value of the 0th Sbox output corresponding to each trace\n",
    "        v = S[plaintext_array_rk[j]^keys_array_rk[j]]\n",
    "        if v == fixedvalue1:\n",
    "            trace_1.append(trace_array_rk[j])\n",
    "        elif ttest==0 and v == fixedvalue2:\n",
    "            trace_2.append(trace_array_rk[j])\n",
    "        if ttest == 1:\n",
    "            trace_2.append(trace_array_rk[j])\n",
    "    trace_1=np.array(trace_1)\n",
    "    trace_2=np.array(trace_2)\n",
    "    \n",
    "     \n",
    "    #number of samples in each set\n",
    "    if M1 != 0:\n",
    "        ind1 = [i for i in range(M1)]\n",
    "        trace_1 = trace_1[ind1]\n",
    "    else:\n",
    "        M1 = len(trace_1)\n",
    "    if M2 != 0:\n",
    "        ind2 = [i for i in range(M2)]\n",
    "        trace_2 = trace_2[ind2]\n",
    "    else:\n",
    "        M2 = len(trace_2)\n",
    "    \n",
    "    print(\"number of traces for dataset one: \" + str(M1))\n",
    "    print(\"number of traces for dataset two: \" + str(M2))\n",
    "    \n",
    "    #sample means for dataset one and dataset two at each time sample\n",
    "    mean1 = trace_1.mean(axis=0)\n",
    "    mean2 = trace_2.mean(axis=0)\n",
    "    print(\"sample mean for dataset one at POI=392: \" + str(mean1[392]))\n",
    "    print(\"sample mean for dataset two at POI=392: \" + str(mean2[392]))\n",
    "    \n",
    "    meandif = mean1 - mean2\n",
    "    #variance for leakages at each time sample\n",
    "    var1 = trace_1.var(axis=0)\n",
    "    var2 = trace_2.var(axis=0)\n",
    "    #sample variance for dataset one and dataset two at each time sample\n",
    "    scale1 = M1/(M1-1)#sample variance divide by sample_size -1 instead of sample_size\n",
    "    scale2 = M2/(M2-1)#sample variance divide by sample_size -1 instead of sample_size\n",
    "    var1 = np.multiply(var1,scale1)\n",
    "    var2 = np.multiply(var2,scale2)\n",
    "    print(\"sample variance for dataset one at POI=392: \" + str(var1[392]))\n",
    "    print(\"sample variance for dataset two at POI=392: \" + str(var2[392]))\n",
    "    \n",
    "    tvla = []\n",
    "    \n",
    "    #student's t-test\n",
    "    if ttest == 0:\n",
    "        sp = np.multiply(var1,(M1-1)/(M1+M2-2))+np.multiply(var2,(M2-1)/(M1+M2-2))\n",
    "        for t in range(q):\n",
    "            tvalue = meandif[t]/np.sqrt(sp[t]*(1/M1+1/M2))\n",
    "            tvla.append(tvalue)\n",
    "    #welch's test\n",
    "    if ttest == 1:\n",
    "        denominator = np.multiply(var1,1/M1)+np.multiply(var2,1/M2)\n",
    "        for t in range(q):\n",
    "            tvalue = meandif[t]/np.sqrt(denominator[t])\n",
    "            tvla.append(tvalue)\n",
    "            \n",
    "    savetofile(\"TVLA/\"+filename+\"_\"+str(M1)+str(M2),tvla)\n",
    "    plt.plot(tvla)\n",
    "    plt.show()\n",
    "    print(\"highest three points\")\n",
    "    highest_tree_points(tvla)\n",
    "    print(\"tvla at POI=392: \" + str(tvla[392]))\n",
    "    return"
   ]
  },
  {
   "cell_type": "code",
   "execution_count": 136,
   "id": "72ea9c8e",
   "metadata": {},
   "outputs": [
    {
     "name": "stdout",
     "output_type": "stream",
     "text": [
      "number of traces for dataset one: 634\n",
      "number of traces for dataset two: 651\n",
      "sample mean for dataset one at POI=392: -0.042455823639589906\n",
      "sample mean for dataset two at POI=392: -0.05390594998079877\n",
      "sample variance for dataset one at POI=392: 2.2961949692119577e-06\n",
      "sample variance for dataset two at POI=392: 2.7378374812141945e-06\n"
     ]
    },
    {
     "data": {
      "image/png": "[encoded data removed]",
      "text/plain": [
       "<Figure size 432x288 with 1 Axes>"
      ]
     },
     "metadata": {
      "needs_background": "light"
     },
     "output_type": "display_data"
    },
    {
     "name": "stdout",
     "output_type": "stream",
     "text": [
      "highest three points\n",
      "[1328 1309  392]\n",
      "[ 57.59137849  61.43028484 129.27023928]\n",
      "tvla at POI=392: 129.27023928368283\n"
     ]
    }
   ],
   "source": [
    "#tvla, taking signal to be given by sbox output\n",
    "#fixed vs fixed\n",
    "tvla_sbox(\"sbox_student\",0,0,15,0,0)"
   ]
  },
  {
   "cell_type": "code",
   "execution_count": 137,
   "id": "8a65ec3c",
   "metadata": {},
   "outputs": [
    {
     "name": "stdout",
     "output_type": "stream",
     "text": [
      "number of traces for dataset one: 50\n",
      "number of traces for dataset two: 50\n",
      "sample mean for dataset one at POI=392: -0.042109375\n",
      "sample mean for dataset two at POI=392: -0.05392578125\n",
      "sample variance for dataset one at POI=392: 2.5939941406249993e-06\n",
      "sample variance for dataset two at POI=392: 2.0354134695870545e-06\n"
     ]
    },
    {
     "data": {
      "image/png": "[encoded data removed]",
      "text/plain": [
       "<Figure size 432x288 with 1 Axes>"
      ]
     },
     "metadata": {
      "needs_background": "light"
     },
     "output_type": "display_data"
    },
    {
     "name": "stdout",
     "output_type": "stream",
     "text": [
      "highest three points\n",
      "[1369  392 1309]\n",
      "[18.52090228 38.83360468 21.69971991]\n",
      "tvla at POI=392: 38.83360467772776\n"
     ]
    }
   ],
   "source": [
    "#tvla, taking signal to be given by sbox output\n",
    "#fixed vs fixed, less traces\n",
    "tvla_sbox(\"sbox_student\",0,0,15,50,50)"
   ]
  },
  {
   "cell_type": "code",
   "execution_count": 138,
   "id": "920d7503",
   "metadata": {},
   "outputs": [
    {
     "name": "stdout",
     "output_type": "stream",
     "text": [
      "number of traces for dataset one: 634\n",
      "number of traces for dataset two: 10000\n",
      "sample mean for dataset one at POI=392: -0.042455823639589906\n",
      "sample mean for dataset two at POI=392: -0.04870830078125\n",
      "sample variance for dataset one at POI=392: 2.2961949692119577e-06\n",
      "sample variance for dataset two at POI=392: 1.1623633896212263e-05\n"
     ]
    },
    {
     "data": {
      "image/png": "[encoded data removed]",
      "text/plain": [
       "<Figure size 432x288 with 1 Axes>"
      ]
     },
     "metadata": {
      "needs_background": "light"
     },
     "output_type": "display_data"
    },
    {
     "name": "stdout",
     "output_type": "stream",
     "text": [
      "highest three points\n",
      "[1328 1309  392]\n",
      "[39.19945793 43.3533856  90.39636955]\n",
      "tvla at POI=392: 90.396369545574\n"
     ]
    }
   ],
   "source": [
    "#tvla, taking signal to be given by sbox output\n",
    "#fixed vs random\n",
    "tvla_sbox(\"sbox_welch\",1,0,0,0,0)"
   ]
  },
  {
   "cell_type": "code",
   "execution_count": 139,
   "id": "56bd0620",
   "metadata": {},
   "outputs": [
    {
     "name": "stdout",
     "output_type": "stream",
     "text": [
      "number of traces for dataset one: 50\n",
      "number of traces for dataset two: 50\n",
      "sample mean for dataset one at POI=392: -0.042109375\n",
      "sample mean for dataset two at POI=392: -0.05015625\n",
      "sample variance for dataset one at POI=392: 2.5939941406249993e-06\n",
      "sample variance for dataset two at POI=392: 9.87773038903061e-06\n"
     ]
    },
    {
     "data": {
      "image/png": "[encoded data removed]",
      "text/plain": [
       "<Figure size 432x288 with 1 Axes>"
      ]
     },
     "metadata": {
      "needs_background": "light"
     },
     "output_type": "display_data"
    },
    {
     "name": "stdout",
     "output_type": "stream",
     "text": [
      "highest three points\n",
      "[1317 1309  392]\n",
      "[11.64871499 11.96465383 16.11198327]\n",
      "tvla at POI=392: 16.111983273134253\n"
     ]
    }
   ],
   "source": [
    "#tvla, taking signal to be given by sbox output\n",
    "#fixed vs random, less traces\n",
    "tvla_sbox(\"sbox_welch\",1,0,0,50,50)"
   ]
  },
  {
   "cell_type": "markdown",
   "id": "f2468694",
   "metadata": {},
   "source": [
    "## SNR computation\n",
    "\n",
    "We take the dataset with random plaintexts and random round keys  "
   ]
  },
  {
   "cell_type": "code",
   "execution_count": 36,
   "id": "887dc17d",
   "metadata": {},
   "outputs": [],
   "source": [
    "#Loading file_no traces to the variable traces and the corresponding plaintexts to the variable plaintexts\n",
    "file_no_rk = 10000\n",
    "traces_rk = []\n",
    "plaintexts_rk = []\n",
    "keys = []\n",
    "\n",
    "for i in range(file_no_rk):\n",
    "    with open('random_dataset/trace_'+str(i)+'.txt') as f:\n",
    "        lines = f.read().splitlines()\n",
    "        traces_rk.append(lines)\n",
    "\n",
    "with open('random_dataset/plaintexts.txt') as f:\n",
    "    plaintexts_rk = f.read().splitlines()\n",
    "\n",
    "with open('random_dataset/keys.txt') as f:\n",
    "    keys_rk = f.read().splitlines()\n",
    "\n",
    "trace_array_rk = np.array(traces_rk)\n",
    "trace_array_rk = trace_array_rk.astype(float)\n",
    "\n",
    "#number of time samples in one trace\n",
    "N_rk = 5000"
   ]
  },
  {
   "cell_type": "code",
   "execution_count": 37,
   "id": "ade8cbc7",
   "metadata": {},
   "outputs": [],
   "source": [
    "#when the signal correspond to the exact value of the 0th Sbox output, we divide the traces to 16 subsets\n",
    "#when signal correspond to the Hamming weight of the 0th Sbox output, we divide the traces to 5 subsets\n",
    "#when signal correspond to the 0th bit of the 0th Sbox output, we divide the traces to 2 subsets\n",
    "sets = [16, 5, 2]\n",
    "\n",
    "#Function for computing SNR, given time sample t, and the choice of signal:\n",
    "#0 -- signal correspond to the exact value of the 0th Sbox output\n",
    "#1 -- signal correspond to the Hamming weight of the 0th Sbox output\n",
    "#2 -- signal correspond to the 0th bit of the 0th Sbox output\n",
    "\n",
    "#ifprint = 1, intermedaite values of the computation will be printed\n",
    "def computeSNR(t, signal_choice, ifprint):\n",
    "    no_of_sets = sets[signal_choice]\n",
    "    \n",
    "    #no_of_sets sets\n",
    "    A = [[] for y in range(no_of_sets)] \n",
    "    \n",
    "    #for each trace/plaintext\n",
    "    for j in range(file_no_rk):\n",
    "        \n",
    "        pt = int(plaintexts_rk[j][15],16)#extract the 0th nibble of the plaintext\n",
    "        ky = int(keys_rk[j][15],16)#extract the 0th nibble of the first round key\n",
    "        \n",
    "        v = S[ky^pt]#compute the output of the 0th Sbox for this plaintext\n",
    "        \n",
    "        if signal_choice == 1:\n",
    "            v = HW[v]\n",
    "        if signal_choice == 2:\n",
    "            v = v%2\n",
    "        \n",
    "        A[v].append(trace_array_rk[j][t])#group the leakage at time t according to this output\n",
    "    \n",
    "    #compute the averages for leakages in each set\n",
    "    avg = []\n",
    "    for v in range(no_of_sets):\n",
    "        avg.append(statistics.mean(A[v]))\n",
    "        if ifprint:\n",
    "            print(\"average of A[\" + str(v) + \"] is %s\" %(statistics.mean(A[v])))\n",
    "    \n",
    "    #variance of signal is given by the variance of leakage avgs\n",
    "    varX = np.var(avg)\n",
    "    \n",
    "    #take leakage minus mean\n",
    "    LminusAvg = []\n",
    "    for v in range(no_of_sets):\n",
    "        for j in range(len(A[v])):\n",
    "            LminusAvg.append(A[v][j]-avg[v])\n",
    "    #variance of noise is given by variance of leakage minus mean\n",
    "    varN = np.var(LminusAvg)\n",
    "    \n",
    "    #SNR is given by variance of signal divided by variance of noise\n",
    "    snr = varX/varN\n",
    "    \n",
    "    if ifprint:\n",
    "        print(\"\\nVariance of the signal is % s \" %(varX))\n",
    "        print(\"Variance of the noise is % s \" %(varN))\n",
    "        print(\"SNR is % s \" %(snr))\n",
    "    return varX, varN, snr"
   ]
  },
  {
   "cell_type": "code",
   "execution_count": 38,
   "id": "3bbd0005",
   "metadata": {},
   "outputs": [
    {
     "name": "stdout",
     "output_type": "stream",
     "text": [
      "average of A[0] is 0.0821159675670347\n",
      "average of A[1] is 0.0822140625\n",
      "average of A[2] is 0.08209151255933544\n",
      "average of A[3] is 0.08203714177978884\n",
      "average of A[4] is 0.08200042825996677\n",
      "average of A[5] is 0.08226982390065146\n",
      "average of A[6] is 0.0821085096914557\n",
      "average of A[7] is 0.08206010643468119\n",
      "average of A[8] is 0.08193392366976351\n",
      "average of A[9] is 0.08226664291530944\n",
      "average of A[10] is 0.08200958300316957\n",
      "average of A[11] is 0.08227062055950267\n",
      "average of A[12] is 0.08215835813492063\n",
      "average of A[13] is 0.0821360518292683\n",
      "average of A[14] is 0.08202384057283764\n",
      "average of A[15] is 0.08205525153609831\n",
      "\n",
      "Variance of the signal is 1.0088265085721795e-08 \n",
      "Variance of the noise is 6.418443277076604e-06 \n",
      "SNR is 0.0015717619756416507 \n"
     ]
    },
    {
     "data": {
      "text/plain": [
       "(1.0088265085721795e-08, 6.418443277076604e-06, 0.0015717619756416507)"
      ]
     },
     "execution_count": 38,
     "metadata": {},
     "output_type": "execute_result"
    }
   ],
   "source": [
    "#compute SNR for one time sample t=600, with identity leakage model\n",
    "computeSNR(600,0,1)"
   ]
  },
  {
   "cell_type": "markdown",
   "id": "bb3d698d",
   "metadata": {},
   "source": [
    "### SNR when signal correspond to the exact value of the 0th Sbox output"
   ]
  },
  {
   "cell_type": "code",
   "execution_count": 39,
   "id": "412693bc",
   "metadata": {},
   "outputs": [],
   "source": [
    "# compute SNR for all time samples\n",
    "varX = [0 for i in range(N_rk)]\n",
    "varN = [0 for i in range(N_rk)]\n",
    "SNR = [0 for i in range(N_rk)]\n",
    "for i in range(N_rk):\n",
    "    varX[i], varN[i],SNR[i]=computeSNR(i,0,0)"
   ]
  },
  {
   "cell_type": "code",
   "execution_count": 40,
   "id": "ace8c2dc",
   "metadata": {},
   "outputs": [
    {
     "data": {
      "text/plain": [
       "[<matplotlib.lines.Line2D at 0x1c843ea90>]"
      ]
     },
     "execution_count": 40,
     "metadata": {},
     "output_type": "execute_result"
    },
    {
     "data": {
      "image/png": "[encoded data removed]",
      "text/plain": [
       "<Figure size 432x288 with 1 Axes>"
      ]
     },
     "metadata": {
      "needs_background": "light"
     },
     "output_type": "display_data"
    }
   ],
   "source": [
    "#plot of variance of signal\n",
    "plt.plot(varX)"
   ]
  },
  {
   "cell_type": "code",
   "execution_count": 41,
   "id": "0ff6d73f",
   "metadata": {},
   "outputs": [
    {
     "data": {
      "text/plain": [
       "[<matplotlib.lines.Line2D at 0x2297eae20>]"
      ]
     },
     "execution_count": 41,
     "metadata": {},
     "output_type": "execute_result"
    },
    {
     "data": {
      "image/png": "[encoded data removed]",
      "text/plain": [
       "<Figure size 432x288 with 1 Axes>"
      ]
     },
     "metadata": {
      "needs_background": "light"
     },
     "output_type": "display_data"
    }
   ],
   "source": [
    "#plot of variance of noise\n",
    "plt.plot(varN)"
   ]
  },
  {
   "cell_type": "code",
   "execution_count": 42,
   "id": "79649907",
   "metadata": {},
   "outputs": [
    {
     "data": {
      "text/plain": [
       "[<matplotlib.lines.Line2D at 0x36fe1fb80>]"
      ]
     },
     "execution_count": 42,
     "metadata": {},
     "output_type": "execute_result"
    },
    {
     "data": {
      "image/png": "[encoded data removed]",
      "text/plain": [
       "<Figure size 432x288 with 1 Axes>"
      ]
     },
     "metadata": {
      "needs_background": "light"
     },
     "output_type": "display_data"
    }
   ],
   "source": [
    "#plot of SNR\n",
    "plt.plot(SNR)"
   ]
  },
  {
   "cell_type": "code",
   "execution_count": 43,
   "id": "4690e284",
   "metadata": {},
   "outputs": [],
   "source": [
    "#save the data to files\n",
    "savetofile(\"SNR/varX\",varX)\n",
    "savetofile(\"SNR/varN\",varN)\n",
    "savetofile(\"SNR/SNR\",SNR)"
   ]
  },
  {
   "cell_type": "markdown",
   "id": "1ca234e6",
   "metadata": {},
   "source": [
    "#### POIs -- Identity leakage model"
   ]
  },
  {
   "cell_type": "code",
   "execution_count": 44,
   "id": "5ed3bfd8",
   "metadata": {},
   "outputs": [
    {
     "name": "stdout",
     "output_type": "stream",
     "text": [
      "[1328  218  392]\n",
      "[2.19185564 2.41795274 3.86612618]\n"
     ]
    }
   ],
   "source": [
    "#three POIs\n",
    "highest_tree_points(SNR)"
   ]
  },
  {
   "cell_type": "code",
   "execution_count": 45,
   "id": "63c4ae92",
   "metadata": {},
   "outputs": [
    {
     "name": "stdout",
     "output_type": "stream",
     "text": [
      "[1306  214  392]\n",
      "[7.28205805e-06 1.35473479e-05 9.23285508e-06]\n"
     ]
    }
   ],
   "source": [
    "#three highest points in signal variance\n",
    "highest_tree_points(varX)"
   ]
  },
  {
   "cell_type": "markdown",
   "id": "5b7d77d9",
   "metadata": {},
   "source": [
    "### SNR when signal correspond to the Hamming weight of the 0th Sbox output"
   ]
  },
  {
   "cell_type": "code",
   "execution_count": 46,
   "id": "0d1f927a",
   "metadata": {},
   "outputs": [
    {
     "name": "stdout",
     "output_type": "stream",
     "text": [
      "average of A[0] is 0.0821159675670347\n",
      "average of A[1] is 0.08206232787637699\n",
      "average of A[2] is 0.08213964224365751\n",
      "average of A[3] is 0.08211709299395162\n",
      "average of A[4] is 0.08205525153609831\n",
      "\n",
      "Variance of the signal is 1.1042735960885632e-09 \n",
      "Variance of the noise is 6.4271519636094245e-06 \n",
      "SNR is 0.00017181383019119003 \n"
     ]
    },
    {
     "data": {
      "text/plain": [
       "(1.1042735960885632e-09, 6.4271519636094245e-06, 0.00017181383019119003)"
      ]
     },
     "execution_count": 46,
     "metadata": {},
     "output_type": "execute_result"
    }
   ],
   "source": [
    "#compute SNR for one time sample t=600, with identity leakage model\n",
    "computeSNR(600,1,1)"
   ]
  },
  {
   "cell_type": "code",
   "execution_count": 47,
   "id": "0ef58b9a",
   "metadata": {},
   "outputs": [],
   "source": [
    "# compute SNR for all time samples\n",
    "varX_hw = [0 for i in range(N_rk)]\n",
    "varN_hw = [0 for i in range(N_rk)]\n",
    "SNR_hw = [0 for i in range(N_rk)]\n",
    "for i in range(N_rk):\n",
    "    varX_hw[i], varN_hw[i],SNR_hw[i]=computeSNR(i,1,0)"
   ]
  },
  {
   "cell_type": "code",
   "execution_count": 48,
   "id": "d6a4e935",
   "metadata": {},
   "outputs": [
    {
     "data": {
      "text/plain": [
       "[<matplotlib.lines.Line2D at 0x36ff11400>]"
      ]
     },
     "execution_count": 48,
     "metadata": {},
     "output_type": "execute_result"
    },
    {
     "data": {
      "image/png": "[encoded data removed]",
      "text/plain": [
       "<Figure size 432x288 with 1 Axes>"
      ]
     },
     "metadata": {
      "needs_background": "light"
     },
     "output_type": "display_data"
    }
   ],
   "source": [
    "#plot of variance of signal\n",
    "plt.plot(varX_hw)"
   ]
  },
  {
   "cell_type": "code",
   "execution_count": 49,
   "id": "d3da9dcf",
   "metadata": {},
   "outputs": [
    {
     "data": {
      "text/plain": [
       "[<matplotlib.lines.Line2D at 0x36ff71a00>]"
      ]
     },
     "execution_count": 49,
     "metadata": {},
     "output_type": "execute_result"
    },
    {
     "data": {
      "image/png": "[encoded data removed]",
      "text/plain": [
       "<Figure size 432x288 with 1 Axes>"
      ]
     },
     "metadata": {
      "needs_background": "light"
     },
     "output_type": "display_data"
    }
   ],
   "source": [
    "#plot of variance of noise\n",
    "plt.plot(varN_hw)"
   ]
  },
  {
   "cell_type": "code",
   "execution_count": 50,
   "id": "3be662fb",
   "metadata": {},
   "outputs": [
    {
     "data": {
      "text/plain": [
       "[<matplotlib.lines.Line2D at 0x36ffd0940>]"
      ]
     },
     "execution_count": 50,
     "metadata": {},
     "output_type": "execute_result"
    },
    {
     "data": {
      "image/png": "[encoded data removed]",
      "text/plain": [
       "<Figure size 432x288 with 1 Axes>"
      ]
     },
     "metadata": {
      "needs_background": "light"
     },
     "output_type": "display_data"
    }
   ],
   "source": [
    "#plot of SNR\n",
    "plt.plot(SNR_hw)"
   ]
  },
  {
   "cell_type": "code",
   "execution_count": 51,
   "id": "1ff21346",
   "metadata": {},
   "outputs": [],
   "source": [
    "#save the data to files\n",
    "savetofile(\"SNR/varX_hw\",varX_hw)\n",
    "savetofile(\"SNR/varN_hw\",varN_hw)\n",
    "savetofile(\"SNR/SNR_hw\",SNR_hw)"
   ]
  },
  {
   "cell_type": "markdown",
   "id": "441b62eb",
   "metadata": {},
   "source": [
    "#### POIs -- Hamming weight leakage model"
   ]
  },
  {
   "cell_type": "code",
   "execution_count": 52,
   "id": "c9642f44",
   "metadata": {},
   "outputs": [
    {
     "name": "stdout",
     "output_type": "stream",
     "text": [
      "[1304  392 1309]\n",
      "[1.05050164 6.22741491 1.44578768]\n"
     ]
    }
   ],
   "source": [
    "#three POIs\n",
    "highest_tree_points(SNR_hw)"
   ]
  },
  {
   "cell_type": "markdown",
   "id": "d00138e2",
   "metadata": {},
   "source": [
    "### SNR when signal correspond to 0th bit of the 0th Sbox output"
   ]
  },
  {
   "cell_type": "code",
   "execution_count": 53,
   "id": "45edf0d2",
   "metadata": {},
   "outputs": [
    {
     "name": "stdout",
     "output_type": "stream",
     "text": [
      "average of A[0] is 0.08205638498852753\n",
      "average of A[1] is 0.08216007480453087\n",
      "\n",
      "Variance of the signal is 2.6878944857015417e-09 \n",
      "Variance of the noise is 6.425559868417835e-06 \n",
      "SNR is 0.0004183128849071609 \n"
     ]
    },
    {
     "data": {
      "text/plain": [
       "(2.6878944857015417e-09, 6.425559868417835e-06, 0.0004183128849071609)"
      ]
     },
     "execution_count": 53,
     "metadata": {},
     "output_type": "execute_result"
    }
   ],
   "source": [
    "#compute SNR for one time sample t=600, with identity leakage model\n",
    "computeSNR(600,2,1)"
   ]
  },
  {
   "cell_type": "code",
   "execution_count": 54,
   "id": "3aae6c21",
   "metadata": {},
   "outputs": [],
   "source": [
    "# compute SNR for all time samples\n",
    "varX_bit = [0 for i in range(N_rk)]\n",
    "varN_bit = [0 for i in range(N_rk)]\n",
    "SNR_bit = [0 for i in range(N_rk)]\n",
    "for i in range(N_rk):\n",
    "    varX_bit[i], varN_bit[i],SNR_bit[i]=computeSNR(i,2,0)"
   ]
  },
  {
   "cell_type": "code",
   "execution_count": 55,
   "id": "b763569d",
   "metadata": {},
   "outputs": [
    {
     "data": {
      "text/plain": [
       "[<matplotlib.lines.Line2D at 0x3700bd700>]"
      ]
     },
     "execution_count": 55,
     "metadata": {},
     "output_type": "execute_result"
    },
    {
     "data": {
      "image/png": "[encoded data removed]",
      "text/plain": [
       "<Figure size 432x288 with 1 Axes>"
      ]
     },
     "metadata": {
      "needs_background": "light"
     },
     "output_type": "display_data"
    }
   ],
   "source": [
    "#plot of variance of signal\n",
    "plt.plot(varX_bit)"
   ]
  },
  {
   "cell_type": "code",
   "execution_count": 56,
   "id": "25617887",
   "metadata": {},
   "outputs": [
    {
     "data": {
      "text/plain": [
       "[<matplotlib.lines.Line2D at 0x37011f940>]"
      ]
     },
     "execution_count": 56,
     "metadata": {},
     "output_type": "execute_result"
    },
    {
     "data": {
      "image/png": "[encoded data removed]",
      "text/plain": [
       "<Figure size 432x288 with 1 Axes>"
      ]
     },
     "metadata": {
      "needs_background": "light"
     },
     "output_type": "display_data"
    }
   ],
   "source": [
    "#plot of variance of noise\n",
    "plt.plot(varN_bit)"
   ]
  },
  {
   "cell_type": "code",
   "execution_count": 57,
   "id": "d0652b87",
   "metadata": {},
   "outputs": [
    {
     "data": {
      "text/plain": [
       "[<matplotlib.lines.Line2D at 0x2a81f0850>]"
      ]
     },
     "execution_count": 57,
     "metadata": {},
     "output_type": "execute_result"
    },
    {
     "data": {
      "image/png": "[encoded data removed]",
      "text/plain": [
       "<Figure size 432x288 with 1 Axes>"
      ]
     },
     "metadata": {
      "needs_background": "light"
     },
     "output_type": "display_data"
    }
   ],
   "source": [
    "#plot of SNR\n",
    "plt.plot(SNR_bit)"
   ]
  },
  {
   "cell_type": "code",
   "execution_count": 58,
   "id": "e7031fc8",
   "metadata": {},
   "outputs": [],
   "source": [
    "#save the data to files\n",
    "savetofile(\"SNR/varX_bit\",varX_bit)\n",
    "savetofile(\"SNR/varN_bit\",varN_bit)\n",
    "savetofile(\"SNR/SNR_bit\",SNR_bit)"
   ]
  },
  {
   "cell_type": "markdown",
   "id": "77cad610",
   "metadata": {},
   "source": [
    "#### POIs -- 0th bit of 0th Sbox output"
   ]
  },
  {
   "cell_type": "code",
   "execution_count": 59,
   "id": "4593b234",
   "metadata": {},
   "outputs": [
    {
     "name": "stdout",
     "output_type": "stream",
     "text": [
      "[1310 1397 1395]\n",
      "[1.24557514 1.27169621 1.33331687]\n"
     ]
    }
   ],
   "source": [
    "#three POIs\n",
    "highest_tree_points(SNR_bit)"
   ]
  },
  {
   "cell_type": "code",
   "execution_count": 116,
   "id": "f46cff80",
   "metadata": {},
   "outputs": [
    {
     "data": {
      "text/plain": [
       "1"
      ]
     },
     "execution_count": 116,
     "metadata": {},
     "output_type": "execute_result"
    }
   ],
   "source": [
    "a= [1,2,3]\n",
    "statistics.variance(a)"
   ]
  },
  {
   "cell_type": "code",
   "execution_count": null,
   "id": "3d5df011",
   "metadata": {},
   "outputs": [],
   "source": []
  }
 ],
 "metadata": {
  "kernelspec": {
   "display_name": "Python 3",
   "language": "python",
   "name": "python3"
  },
  "language_info": {
   "codemirror_mode": {
    "name": "ipython",
    "version": 3
   },
   "file_extension": ".py",
   "mimetype": "text/x-python",
   "name": "python",
   "nbconvert_exporter": "python",
   "pygments_lexer": "ipython3",
   "version": "3.9.5"
  }
 },
 "nbformat": 4,
 "nbformat_minor": 5
}
