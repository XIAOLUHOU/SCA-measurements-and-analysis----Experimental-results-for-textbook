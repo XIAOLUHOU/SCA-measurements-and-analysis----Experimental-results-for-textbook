{
 "cells": [
  {
   "cell_type": "code",
   "execution_count": 1,
   "id": "decfcd28",
   "metadata": {},
   "outputs": [],
   "source": [
    "#imports\n",
    "import numpy as np\n",
    "import matplotlib.pyplot as plt\n",
    "import statistics\n",
    "import random\n",
    "import math\n",
    "\n",
    "# Hamming weights of numbers 0-15\n",
    "HW = [0,1,1,2,1,2,2,3,1,2,2,3,2,3,3,4]\n",
    "\n",
    "##PRESENT Sbox\n",
    "S = [12,5,6,11,9,0,10,13,3,14,15,8,4,7,1,2]\n",
    "correct_key = 9"
   ]
  },
  {
   "cell_type": "code",
   "execution_count": 2,
   "id": "26a5ddc4",
   "metadata": {},
   "outputs": [],
   "source": [
    "#save data to file for tikz plot\n",
    "def savetofile(filename,array):\n",
    "    f = open(filename+\".txt\", \"w\")\n",
    "    f.write(\"x y\\n\")\n",
    "    i = 0\n",
    "    for i in range(len(array)):\n",
    "        f.write(str(i)+\" \"+str(array[i])+\"\\n\")\n",
    "        i+=1\n",
    "    f.close()"
   ]
  },
  {
   "cell_type": "code",
   "execution_count": 3,
   "id": "f5cd92bb",
   "metadata": {},
   "outputs": [],
   "source": [
    "def highest_tree_points(array):\n",
    "    array_abs = [abs(a) for a in array]\n",
    "    ind = np.argpartition(array_abs, -3)[-3:]\n",
    "    print(ind)\n",
    "    array_abs = np.array(array_abs)\n",
    "    print(array_abs[ind])\n",
    "    return"
   ]
  },
  {
   "cell_type": "markdown",
   "id": "9c8672c6",
   "metadata": {},
   "source": [
    "# Compute lookup tables"
   ]
  },
  {
   "cell_type": "code",
   "execution_count": 4,
   "id": "efb78b0b",
   "metadata": {},
   "outputs": [],
   "source": [
    "##compute T1\n",
    "def getT1(T2):\n",
    "    T1 = [0 for i in range(256)]\n",
    "    for v in range(16):\n",
    "        for m_in in range(16):\n",
    "            table_input = ((v^m_in) << 4)^m_in\n",
    "            T1[table_input] = S[v]^T2[m_in]\n",
    "    return T1"
   ]
  },
  {
   "cell_type": "code",
   "execution_count": 5,
   "id": "321f95d3",
   "metadata": {},
   "outputs": [],
   "source": [
    "##T2\n",
    "T2 = [14,4,15,9,0,3,13,5,7,8,10,2,11,1,6,12]"
   ]
  },
  {
   "cell_type": "code",
   "execution_count": 6,
   "id": "9f8c025f",
   "metadata": {},
   "outputs": [
    {
     "name": "stdout",
     "output_type": "stream",
     "text": [
      "[2, 1, 9, 2, 9, 3, 7, 8, 4, 6, 5, 10, 15, 6, 7, 14, 11, 8, 4, 15, 0, 10, 0, 15, 9, 11, 2, 13, 12, 5, 4, 13, 8, 15, 3, 12, 10, 14, 4, 5, 8, 0, 9, 12, 10, 3, 2, 11, 5, 2, 10, 5, 13, 9, 13, 12, 15, 7, 4, 1, 9, 0, 1, 8, 7, 4, 5, 4, 12, 6, 11, 14, 3, 15, 11, 0, 8, 15, 9, 4, 14, 13, 2, 3, 5, 15, 6, 3, 0, 12, 8, 3, 5, 2, 14, 3, 4, 9, 6, 9, 6, 8, 1, 0, 6, 10, 14, 5, 4, 9, 5, 2, 3, 14, 15, 0, 11, 5, 8, 9, 5, 9, 13, 6, 3, 14, 8, 15, 13, 10, 0, 1, 4, 4, 12, 7, 11, 13, 12, 9, 2, 1, 12, 1, 0, 7, 7, 6, 7, 7, 15, 4, 2, 4, 1, 4, 11, 8, 11, 6, 1, 12, 12, 7, 1, 1, 9, 2, 1, 3, 6, 7, 1, 12, 15, 12, 6, 11, 1, 10, 2, 2, 10, 1, 12, 14, 15, 14, 6, 11, 6, 5, 10, 3, 14, 11, 3, 13, 2, 13, 14, 8, 0, 15, 7, 4, 0, 7, 9, 0, 13, 8, 14, 0, 5, 10, 7, 1, 7, 8, 14, 13, 13, 10, 15, 6, 11, 14, 15, 11, 14, 11, 13, 5, 3, 2, 13, 10, 10, 9, 12, 5, 8, 13, 8, 12, 3, 6, 10, 2, 10, 11, 0, 7, 3, 0]\n"
     ]
    }
   ],
   "source": [
    "print(getT1(T2))"
   ]
  },
  {
   "cell_type": "markdown",
   "id": "1e61eb4c",
   "metadata": {},
   "source": [
    "# Compute TVLA"
   ]
  },
  {
   "cell_type": "code",
   "execution_count": 7,
   "id": "85782af7",
   "metadata": {},
   "outputs": [],
   "source": [
    "#Load data from masked fixed dataset A\n",
    "file_no_fixed = 100\n",
    "traces_fixed = []\n",
    "plaintexts_fixed = []\n",
    "\n",
    "for i in range(file_no_fixed):\n",
    "    with open('masked_fixed_dataset_A/trace_'+str(i)+'.txt') as f:\n",
    "        lines = f.read().splitlines()\n",
    "        traces_fixed.append(lines)\n",
    "\n",
    "with open('masked_fixed_dataset_A/plaintexts.txt') as f:\n",
    "    plaintexts_fixed = f.read().splitlines()\n",
    "    \n",
    "trace_array_fixed = np.array(traces_fixed)\n",
    "trace_array_fixed = trace_array_fixed.astype(float)\n",
    "q = 5000 #number of time samples"
   ]
  },
  {
   "cell_type": "code",
   "execution_count": 8,
   "id": "72a06f96",
   "metadata": {},
   "outputs": [],
   "source": [
    "#load data from masked fixed dataset B\n",
    "file_no_fixed_2 = 100\n",
    "traces_fixed_2 = []\n",
    "plaintexts_fixed_2 = []\n",
    "\n",
    "for i in range(file_no_fixed_2):\n",
    "    with open('masked_fixed_dataset_B/trace_'+str(i)+'.txt') as f:\n",
    "        lines = f.read().splitlines()\n",
    "        traces_fixed_2.append(lines)\n",
    "\n",
    "with open('masked_fixed_dataset_B/plaintexts.txt') as f:\n",
    "    plaintexts_fixed_2 = f.read().splitlines()\n",
    "    \n",
    "trace_array_fixed_2 = np.array(traces_fixed_2)\n",
    "trace_array_fixed_2 = trace_array_fixed_2.astype(float)"
   ]
  },
  {
   "cell_type": "code",
   "execution_count": 9,
   "id": "da464a4c",
   "metadata": {},
   "outputs": [],
   "source": [
    "def TVLA(number_of_traces,trace_array1,trace_array2,filename):\n",
    "    #compute the t-value for all time samples\n",
    "    ind = [i for i in range(number_of_traces)]\n",
    "    trace_1 = trace_array1[ind]\n",
    "    trace_2 = trace_array2[ind]\n",
    "    #sample means for dataset one and dataset two at each time sample\n",
    "    mean1 = trace_1.mean(axis=0)\n",
    "    mean2 = trace_2.mean(axis=0)\n",
    "    meandif = mean1 - mean2\n",
    "    numerator = np.multiply(meandif,np.sqrt(number_of_traces))\n",
    "    \n",
    "    #variance for leakages at each time sample\n",
    "    var1 = trace_1.var(axis=0)\n",
    "    var2 = trace_2.var(axis=0)\n",
    "    #sample variance for dataset one and dataset two at each time sample\n",
    "    scale = number_of_traces/(number_of_traces-1)#sample variance divide by sample_size -1 instead of sample_size\n",
    "    var1 = np.multiply(var1,scale)\n",
    "    var2 = np.multiply(var2,scale)\n",
    "    tvla = []\n",
    "    for t in range(q):\n",
    "        tvalue = numerator[t]/np.sqrt(var1[t]+var2[t])\n",
    "        tvla.append(tvalue)\n",
    "    savetofile(filename+str(number_of_traces),tvla)\n",
    "    plt.plot(tvla)\n",
    "    plt.show()\n",
    "    print(\"highest three points\")\n",
    "    highest_tree_points(tvla)\n",
    "    print(\"tvla at POI=392: \" + str(tvla[392]))\n",
    "    return"
   ]
  },
  {
   "cell_type": "code",
   "execution_count": 10,
   "id": "4e5e6296",
   "metadata": {},
   "outputs": [
    {
     "data": {
      "image/png": "[encoded data removed]",
      "text/plain": [
       "<Figure size 432x288 with 1 Axes>"
      ]
     },
     "metadata": {
      "needs_background": "light"
     },
     "output_type": "display_data"
    },
    {
     "name": "stdout",
     "output_type": "stream",
     "text": [
      "highest three points\n",
      "[ 301 2481  373]\n",
      "[6.83818211 6.91181046 6.97859639]\n",
      "tvla at POI=392: -3.443578645858817\n"
     ]
    }
   ],
   "source": [
    "TVLA(50,trace_array_fixed,trace_array_fixed_2,\"masked_tvlafixed_\")"
   ]
  },
  {
   "cell_type": "markdown",
   "id": "31e5c8fd",
   "metadata": {},
   "source": [
    "# Attack results"
   ]
  },
  {
   "cell_type": "code",
   "execution_count": 25,
   "id": "95dc066d",
   "metadata": {},
   "outputs": [],
   "source": [
    "#Load data from attack traces\n",
    "file_no_protected = 20000\n",
    "traces_protected = []\n",
    "\n",
    "for i in range(file_no_protected):\n",
    "    with open('masked_random_plaintext_dataset/trace_'+str(i)+'.txt') as f:\n",
    "        lines = f.read().splitlines()\n",
    "        traces_protected.append(lines)\n",
    "\n",
    "with open('masked_random_plaintext_dataset/plaintext.txt') as f:\n",
    "    plaintext_protected = f.read().splitlines()\n",
    "    \n",
    "trace_array_protected = np.array(traces_protected)\n",
    "trace_array_protected = trace_array_protected.astype(float)\n",
    "\n",
    "plaintext_array_protected = []\n",
    "for i in range(file_no_protected):\n",
    "    plaintext_array_protected.append(int(plaintext_protected[i][15],16))\n",
    "    \n",
    "plaintext_array_protected = np.array(plaintext_array_protected)\n",
    "q = 5000 #number of time samples"
   ]
  },
  {
   "cell_type": "code",
   "execution_count": 26,
   "id": "2d2c181d",
   "metadata": {},
   "outputs": [],
   "source": [
    "#compute the correlation coefficients for all time samples given the leakage model\n",
    "#0: identity leakage model\n",
    "#1: Hamming weight leakage model\n",
    "def corr_coeff(leakage_model):\n",
    "    #store hypotheses of intermediate values\n",
    "    iv = [[0 for x in range(file_no_protected)] for y in range(16)] \n",
    "\n",
    "    for i in range(16): #for each key hypothesis\n",
    "        for j in range(file_no_protected): #for each plaintext\n",
    "            pt = plaintext_array_protected[j] # get the target nibble of the plaintext\n",
    "            iv[i][j] = S[i^pt] #compute the hypotheses of intermediate values\n",
    "            if leakage_model == 1:\n",
    "                iv[i][j] = HW[iv[i][j]]\n",
    "\n",
    "    #store correlation coefficients for each time sample and each key hypothesis\n",
    "    corr_coeff = [[0 for x in range(q)] for y in range(16)] \n",
    "    \n",
    "    #for plotting\n",
    "    x = []\n",
    "    \n",
    "    for t in range(q):\n",
    "        for k in range(16): #for each key hypothesis\n",
    "            #compute coefficient between the leakages at time sample t and the hypotheses\n",
    "#             corr_coeff[k][t] = abs(np.corrcoef(trace_array[:,t],iv[k])[0][1])\n",
    "            corr_coeff[k][t] = np.corrcoef(trace_array_protected[:,t],iv[k])[0][1]\n",
    "        x.append(t)\n",
    "    \n",
    "    for k in range(16):\n",
    "        if k == correct_key:\n",
    "            plt.plot(x,corr_coeff[k],'b')\n",
    "        else:\n",
    "            plt.plot(x,corr_coeff[k],color=\"#808080\")\n",
    "        #printing the correlation coefficients\n",
    "        print(max(corr_coeff[k]),k,corr_coeff[k].index(max(corr_coeff[k])))\n",
    "    plt.show()\n",
    "    return corr_coeff"
   ]
  },
  {
   "cell_type": "code",
   "execution_count": 27,
   "id": "f906c008",
   "metadata": {},
   "outputs": [
    {
     "name": "stdout",
     "output_type": "stream",
     "text": [
      "0.22400378359422007 0 1945\n",
      "0.5000478685110478 1 405\n",
      "0.38085327719128503 2 1989\n",
      "0.49470342978129994 3 1929\n",
      "0.37031498740833185 4 1945\n",
      "0.3122904952508555 5 213\n",
      "0.5768556329168912 6 2024\n",
      "0.1915627632750571 7 406\n",
      "0.10115282400757888 8 2024\n",
      "0.7002214010181786 9 1945\n",
      "0.38894665867487 10 1945\n",
      "0.31370958691535017 11 2024\n",
      "0.39025533796336304 12 405\n",
      "0.2077487487972224 13 213\n",
      "0.397582736572667 14 1915\n",
      "0.4951722385338682 15 2024\n"
     ]
    },
    {
     "data": {
      "image/png": "[encoded data removed]",
      "text/plain": [
       "<Figure size 432x288 with 1 Axes>"
      ]
     },
     "metadata": {
      "needs_background": "light"
     },
     "output_type": "display_data"
    }
   ],
   "source": [
    "cor_protected = corr_coeff(0)\n",
    "for i in range(16):\n",
    "    savetofile(\"correlation_coefficients/corr_protected_\" + str(i) + \".txt\", cor_protected[i])"
   ]
  },
  {
   "cell_type": "code",
   "execution_count": 28,
   "id": "a5290f41",
   "metadata": {},
   "outputs": [
    {
     "name": "stdout",
     "output_type": "stream",
     "text": [
      "0.38895811692566 0 1945\n",
      "0.46637960813752477 1 2024\n",
      "0.2097917384357713 2 1989\n",
      "0.4789195968375349 3 1929\n",
      "0.43285579727865675 4 409\n",
      "0.33301922138369405 5 405\n",
      "0.5236126850873257 6 2024\n",
      "0.24208637346216333 7 1945\n",
      "0.4458365456738841 8 2024\n",
      "0.5086641393094928 9 1929\n",
      "0.36677279307552535 10 409\n",
      "0.3391306495386736 11 405\n",
      "0.5201713722507955 12 405\n",
      "0.21383643330810181 13 213\n",
      "0.15874790952945278 14 1915\n",
      "0.6350883365410648 15 2005\n"
     ]
    },
    {
     "data": {
      "image/png": "[encoded data removed]",
      "text/plain": [
       "<Figure size 432x288 with 1 Axes>"
      ]
     },
     "metadata": {
      "needs_background": "light"
     },
     "output_type": "display_data"
    }
   ],
   "source": [
    "cor_hw_protected = corr_coeff(1)\n",
    "for i in range(16):\n",
    "    savetofile(\"correlation_coefficients/corr_hw_protected_\" + str(i) + \".txt\", cor_hw_protected[i])"
   ]
  },
  {
   "cell_type": "markdown",
   "id": "d035d745",
   "metadata": {},
   "source": [
    "# Profiling"
   ]
  },
  {
   "cell_type": "code",
   "execution_count": 12,
   "id": "99124fc0",
   "metadata": {},
   "outputs": [],
   "source": [
    "#Traces for profiling\n",
    "file_no_rk = 10000\n",
    "traces_rk = []\n",
    "plaintexts_rk = []\n",
    "keys_rk = []\n",
    "\n",
    "for i in range(file_no_rk):\n",
    "    with open('masked_random_dataset/trace_'+str(i)+'.txt') as f:\n",
    "        lines = f.read().splitlines()\n",
    "        traces_rk.append(lines)\n",
    "\n",
    "with open('masked_random_dataset/plaintext.txt') as f:\n",
    "    plaintexts_rk = f.read().splitlines()\n",
    "\n",
    "with open('masked_random_dataset/keys.txt') as f:\n",
    "    keys_rk = f.read().splitlines()\n",
    "\n",
    "trace_array_rk = np.array(traces_rk)\n",
    "trace_array_rk = trace_array_rk.astype(float)\n",
    "\n",
    "#extract the plaintext nibble\n",
    "plaintext_array_rk = []\n",
    "for i in range(file_no_rk):\n",
    "    plaintext_array_rk.append(int(plaintexts_rk[i][15],16))\n",
    "plaintext_array_rk = np.array(plaintext_array_rk)\n",
    "\n",
    "\n",
    "#extract the key nibble\n",
    "keys_array_rk = []\n",
    "for i in range(file_no_rk):\n",
    "    keys_array_rk.append(int(keys_rk[i][15],16))\n",
    "keys_array_rk = np.array(keys_array_rk)\n",
    "\n",
    "\n",
    "#number of time samples in one trace\n",
    "N_rk = 5000"
   ]
  },
  {
   "cell_type": "code",
   "execution_count": 13,
   "id": "90941100",
   "metadata": {},
   "outputs": [],
   "source": [
    "##get the target intermediate value for each trace in masked_random_dataset\n",
    "target_value = []\n",
    "for i in range(file_no_rk):\n",
    "    v = S[plaintext_array_rk[i]^keys_array_rk[i]]\n",
    "    target_value.append(v)\n",
    "target_value = np.array(target_value)"
   ]
  },
  {
   "cell_type": "code",
   "execution_count": 14,
   "id": "38c7746c",
   "metadata": {},
   "outputs": [],
   "source": [
    "#Function for computing SNR, given time sample t\n",
    "#signal correspond to the exact value of the 0th Sbox output\n",
    "#ifprint = 1, intermedaite values of the computation will be printed\n",
    "def computeSNR(t, ifprint):\n",
    "    no_of_sets = 16\n",
    "    \n",
    "    #no_of_sets sets\n",
    "    A = [[] for y in range(no_of_sets)] \n",
    "    \n",
    "    #for each trace/plaintext\n",
    "    for j in range(file_no_rk):\n",
    "        \n",
    "        pt = int(plaintexts_rk[j][15],16)#extract the 0th nibble of the plaintext\n",
    "        ky = int(keys_rk[j][15],16)#extract the 0th nibble of the first round key\n",
    "        \n",
    "        v = S[ky^pt]#compute the output of the 0th Sbox for this plaintext\n",
    "        \n",
    "        A[v].append(trace_array_rk[j][t])#group the leakage at time t according to this output\n",
    "    \n",
    "    #compute the averages for leakages in each set\n",
    "    avg = []\n",
    "    for v in range(no_of_sets):\n",
    "        avg.append(statistics.mean(A[v]))\n",
    "        if ifprint:\n",
    "            print(\"average of A[\" + str(v) + \"] is %s\" %(statistics.mean(A[v])))\n",
    "    \n",
    "    #variance of signal is given by the variance of leakage avgs\n",
    "    varX = np.var(avg)\n",
    "    \n",
    "    #take leakage minus mean\n",
    "    LminusAvg = []\n",
    "    for v in range(no_of_sets):\n",
    "        for j in range(len(A[v])):\n",
    "            LminusAvg.append(A[v][j]-avg[v])\n",
    "    #variance of noise is given by variance of leakage minus mean\n",
    "    varN = np.var(LminusAvg)\n",
    "    \n",
    "    #SNR is given by variance of signal divided by variance of noise\n",
    "    snr = varX/varN\n",
    "    \n",
    "    if ifprint:\n",
    "        print(\"\\nVariance of the signal is % s \" %(varX))\n",
    "        print(\"Variance of the noise is % s \" %(varN))\n",
    "        print(\"SNR is % s \" %(snr))\n",
    "    return varX, varN, snr"
   ]
  },
  {
   "cell_type": "code",
   "execution_count": 15,
   "id": "9209b6f1",
   "metadata": {},
   "outputs": [],
   "source": [
    "def SNR_for_all_time_samples():\n",
    "    varX = [0 for i in range(N_rk)]\n",
    "    varN = [0 for i in range(N_rk)]\n",
    "    SNR = [0 for i in range(N_rk)]\n",
    "    for i in range(N_rk):\n",
    "        varX[i], varN[i],SNR[i]=computeSNR(i,0)\n",
    "    #save the data to files\n",
    "    savetofile(\"varX\",varX)\n",
    "    savetofile(\"varN\",varN)\n",
    "    savetofile(\"SNR_masked\",SNR)\n",
    "    \n",
    "    #plot of SNR\n",
    "    plt.plot(SNR)\n",
    "    \n",
    "    #three POIs\n",
    "    print(\"three highest poits: \")\n",
    "    print(highest_tree_points(SNR))\n",
    "    return"
   ]
  },
  {
   "cell_type": "code",
   "execution_count": 16,
   "id": "a0bb5753",
   "metadata": {
    "scrolled": true
   },
   "outputs": [
    {
     "name": "stdout",
     "output_type": "stream",
     "text": [
      "three highest poits: \n",
      "[ 405 1929 2024]\n",
      "[3.6679396  4.25377484 3.9400505 ]\n",
      "None\n"
     ]
    },
    {
     "data": {
      "image/png": "[encoded data removed]",
      "text/plain": [
       "<Figure size 432x288 with 1 Axes>"
      ]
     },
     "metadata": {
      "needs_background": "light"
     },
     "output_type": "display_data"
    }
   ],
   "source": [
    "SNR_for_all_time_samples()"
   ]
  },
  {
   "cell_type": "code",
   "execution_count": 40,
   "id": "e14f42e9",
   "metadata": {},
   "outputs": [],
   "source": [
    "POI = 1929"
   ]
  },
  {
   "cell_type": "code",
   "execution_count": 41,
   "id": "7e0363ab",
   "metadata": {},
   "outputs": [],
   "source": [
    "#build template on POI\n",
    "def build_template(leakage_model, no_of_traces, inputs, traces):\n",
    "    \n",
    "    if leakage_model == 0:\n",
    "        no_of_sets = 16 #for signal = identity, we group leakages into 16 sets\n",
    "    elif leakage_model == 1:\n",
    "        no_of_sets = 5 #for signal = hamming weight, we group leakages into 5 sets\n",
    "        \n",
    "    #record leakages at the POI for traces in each set\n",
    "    poi_leakage = [[] for x in range(no_of_sets)] \n",
    "    #separate leakages to sets depending on the Sbox output value and leakage model\n",
    "    for j in range(no_of_traces): #for each value\n",
    "        iv = inputs[j] #the target intermediate value\n",
    "        if leakage_model == 1:\n",
    "            iv = HW[iv]\n",
    "        poi_leakage[iv].append(traces[j,POI])\n",
    "    \n",
    "    #mean vectors\n",
    "    mean_vector = []\n",
    "    #variances\n",
    "    variances = []\n",
    "    for i in range(no_of_sets):\n",
    "        mean_vector.append(statistics.mean(poi_leakage[i]))\n",
    "        variances.append(statistics.variance(poi_leakage[i]))\n",
    "    \n",
    "    #return mean vector and the covariance matrix\n",
    "    return mean_vector,variances"
   ]
  },
  {
   "cell_type": "code",
   "execution_count": 42,
   "id": "413cf1cb",
   "metadata": {},
   "outputs": [
    {
     "name": "stdout",
     "output_type": "stream",
     "text": [
      "[-0.04462599342621664, -0.04414851028726708, -0.04442735373402556, -0.044014300431711145, -0.03992798430094787, -0.03977126949917898, -0.03976680871212121, -0.03958930907809984, -0.04437107475688817, -0.04396701388888889, -0.044192644505718956, -0.04373693769904458, -0.03958032693073248, -0.039483642578125, -0.03947192342985318, -0.03931544569672131]\n",
      "[1.3593222852173797e-06, 1.1600091148458932e-06, 1.3160315565407847e-06, 1.2982881835522898e-06, 1.2853634908837371e-06, 1.1594754371448556e-06, 1.3671305259956833e-06, 1.2402125540835338e-06, 1.0956746134922298e-06, 1.1442640237793711e-06, 1.2919765666772615e-06, 1.2767488204495217e-06, 1.2387501706509215e-06, 1.1625797349335816e-06, 1.3420828881799754e-06, 1.132312721158586e-06]\n"
     ]
    }
   ],
   "source": [
    "##templates for identity leakage model\n",
    "mean_vector_id, variances_id = build_template(0, file_no_rk, target_value, trace_array_rk)\n",
    "print(mean_vector_id)\n",
    "print(variances_id)"
   ]
  },
  {
   "cell_type": "code",
   "execution_count": 43,
   "id": "1242c579",
   "metadata": {},
   "outputs": [
    {
     "name": "stdout",
     "output_type": "stream",
     "text": [
      "-0.04463, -0.04415, -0.04443, -0.04401, -0.03993, -0.03977, -0.03977, -0.03959, -0.04437, -0.04397, -0.04419, -0.04374, -0.03958, -0.03948, -0.03947, -0.03932, "
     ]
    }
   ],
   "source": [
    "for i in range(16):\n",
    "    print(\"%.5f, \" % mean_vector_id[i], end=\"\")"
   ]
  },
  {
   "cell_type": "code",
   "execution_count": 44,
   "id": "07f558ac",
   "metadata": {},
   "outputs": [],
   "source": [
    "##templates for hamming weight leakage model\n",
    "mean_vector_hw, variances_hw = build_template(0, file_no_rk, target_value, trace_array_rk)"
   ]
  },
  {
   "cell_type": "code",
   "execution_count": 45,
   "id": "6dcefcc2",
   "metadata": {},
   "outputs": [],
   "source": [
    "#Attack with attack traces\n",
    "#compute the score of each key hypothesis given the set of traces, the corresponding inpputs (plaintext nibble) and the templates\n",
    "#mean_vector and variances contain the templates\n",
    "def template_prob_score(leakage_model, no_of_traces, traces, mean_vector, variances, pts):\n",
    "    \n",
    "    if leakage_model == 0:\n",
    "        no_of_sets = 16 #for signal = identity, we group leakages into 16 sets\n",
    "    elif leakage_model == 1:\n",
    "        no_of_sets = 5 #for signal = hamming weight, we group leakages into 5 sets\n",
    "    \n",
    "    prob = [0 for x in range(16)]#score for each key hypothesis\n",
    "    \n",
    "    #group the traces according to the key hypothesis\n",
    "    for k in range(16): #for each key hypothesis\n",
    "        #compute score of each trace\n",
    "        for j in range(no_of_traces): #for each trace\n",
    "            pt = pts[j] # get the target nibble of the plaintext\n",
    "            iv = S[k^pt] #compute the intermediate value\n",
    "            if leakage_model == 1:\n",
    "                iv = HW[iv]\n",
    "            #leakges at the POI\n",
    "            trace_leakage = traces[j,POI]\n",
    "#             trace_leakage = traces[j]\n",
    "            #compute the score of this trace using the template\n",
    "            mean_dif = trace_leakage-mean_vector[iv]\n",
    "            trace_prob = math.log(variances[iv])+(mean_dif*mean_dif)/variances[iv]\n",
    "            #probablity for each key hypothesis is update with each trace\n",
    "            prob[k] -= trace_prob\n",
    "    return prob\n",
    "\n",
    "def compute_rank(probs, key):\n",
    "    prob_sorted = []\n",
    "    for k in range(16):\n",
    "        prob_sorted.append(probs[k])\n",
    "    prob_correct = prob_sorted[key]\n",
    "    prob_sorted.sort()\n",
    "    rank = prob_sorted.index(prob_correct)\n",
    "    return 16-rank #the key with the lowest score is the best"
   ]
  },
  {
   "cell_type": "code",
   "execution_count": 46,
   "id": "534e8a79",
   "metadata": {},
   "outputs": [],
   "source": [
    "#compute probability scores for each key hypothesis\n",
    "#mean and variances are the templates\n",
    "def prob_score(leakage_model, key_nibble, max_no_trace, mean_vector, variances, all_traces, all_inputs):\n",
    "    #probability score for all key hypotheses\n",
    "    all_prob_score = [[0 for x in range(max_no_trace+1)] for y in range(16)]\n",
    "    for no_of_traces in range(1,max_no_trace+1):\n",
    "        ind = [i for i in range(no_of_traces)]\n",
    "        traces = all_traces[ind]\n",
    "        pts = all_inputs[ind]\n",
    "        probs = template_prob_score(leakage_model, no_of_traces, traces, mean_vector, variances, pts)\n",
    "        for k in range(16):\n",
    "            all_prob_score[k][no_of_traces] = probs[k]\n",
    "    \n",
    "    #plot probability scores\n",
    "    x = []\n",
    "    for no_of_traces in range(max_no_trace+1):\n",
    "        x.append(no_of_traces)\n",
    "    for k in range(16):\n",
    "        if k == correct_key:\n",
    "            plt.plot(x,all_prob_score[k],'b')\n",
    "        else:\n",
    "            plt.plot(x,all_prob_score[k],color=\"#808080\")\n",
    "    plt.title('Probability scores')\n",
    "    plt.show()\n",
    "    \n",
    "    return all_prob_score"
   ]
  },
  {
   "cell_type": "code",
   "execution_count": 47,
   "id": "d4ba5075",
   "metadata": {},
   "outputs": [
    {
     "data": {
      "image/png": "[encoded data removed]",
      "text/plain": [
       "<Figure size 432x288 with 1 Axes>"
      ]
     },
     "metadata": {
      "needs_background": "light"
     },
     "output_type": "display_data"
    }
   ],
   "source": [
    "prob_score(0, correct_key, 20, mean_vector_id, variances_id, trace_array_protected, plaintext_array_protected);"
   ]
  },
  {
   "cell_type": "code",
   "execution_count": 48,
   "id": "c5725de0",
   "metadata": {},
   "outputs": [],
   "source": [
    "#indices of traces/plaintexts used for computing success rate and guessing entropy\n",
    "#generate random indices for traces in the attack set\n",
    "no_of_attack = 100#number of attacks to do for computing GE\n",
    "max_trace = int(file_no_protected/no_of_attack) #maximum number of traces to consider\n",
    "indall = [[] for i in range(max_trace+1)]\n",
    "def set_up_indices():\n",
    "    for no_of_traces in range(max_trace+1):\n",
    "        indall[no_of_traces] = random.sample(range(file_no_protected), no_of_traces*no_of_attack)\n",
    "    return\n",
    "set_up_indices()"
   ]
  },
  {
   "cell_type": "code",
   "execution_count": 49,
   "id": "3061a67b",
   "metadata": {},
   "outputs": [],
   "source": [
    "#Computing success rate and guessing entropy given the number of traces\n",
    "def sr_ge_dpa(mean_vector, variances, no_of_traces, leakage_model, key_nibble, all_traces, all_plaintext):\n",
    "    ranks = []#store key rank in each simulated attack\n",
    "    success_rate = 0\n",
    "    \n",
    "    for i in range(no_of_attack):#repeat no_of_attack attacks\n",
    "        ind = indall[no_of_traces][i*no_of_traces:(i+1)*no_of_traces]\n",
    "        traces = all_traces[ind]#leakges at POIs\n",
    "        pts = all_plaintext[ind]#corresponding plaintext nibbles\n",
    "        rk = compute_rank(template_prob_score(leakage_model, no_of_traces, traces, mean_vector, variances, pts),key_nibble)\n",
    "        ranks.append(rk)\n",
    "        if(rk == 1):\n",
    "            success_rate += 1\n",
    "    success_rate = success_rate/no_of_attack\n",
    "    return success_rate, statistics.mean(ranks)"
   ]
  },
  {
   "cell_type": "code",
   "execution_count": 50,
   "id": "62f68791",
   "metadata": {},
   "outputs": [],
   "source": [
    "#compute sucess rate and guessing entropy for different number of traces\n",
    "def get_SR_GE(key_nibble):\n",
    "    SR_id = [0,0]\n",
    "    GE_id = [0,0]\n",
    "    SR_hw = [0,0]\n",
    "    GE_hw = [0,0]\n",
    "    \n",
    "    for no_of_traces in range(2,max_trace+1):\n",
    "        if no_of_traces%100 == 0:\n",
    "            print('computing for number of traces ' + str(no_of_traces))\n",
    "        #signal = v, original\n",
    "        sr_id,ge_id = sr_ge_dpa(mean_vector_id, variances_id, no_of_traces, 0, key_nibble, trace_array_protected, plaintext_array_protected)\n",
    "        SR_id.append(sr_id)\n",
    "        GE_id.append(ge_id)\n",
    "        #signal = Hamming weight \n",
    "        sr_hw,ge_hw = sr_ge_dpa(mean_vector_hw, variances_hw, no_of_traces, 1, key_nibble, trace_array_protected, plaintext_array_protected)\n",
    "        SR_hw.append(sr_hw)\n",
    "        GE_hw.append(ge_hw)\n",
    "        \n",
    "\n",
    "    \n",
    "    # Placing the plots in the plane\n",
    "    plt.figure(figsize=(10,6)) \n",
    "    \n",
    "    ##plot success rates\n",
    "    ax1 = plt.subplot(3, 1, 1)\n",
    "    plt.plot(SR_id, 'b')\n",
    "    plt.plot(SR_hw, 'g')\n",
    "        \n",
    "    ##plot guessing entropy\n",
    "    ax2 = plt.subplot(3, 1, 2)\n",
    "    plt.plot(GE_id, 'b')\n",
    "    plt.plot(GE_hw, 'g')\n",
    "   \n",
    "    ax1.set_title(\"SR\")\n",
    "    ax2.set_title(\"GE\")\n",
    "    \n",
    "    \n",
    "    ##save to file\n",
    "    savetofile(\"SR_masked\",SR_id)\n",
    "    savetofile(\"SR_hw\",SR_hw)\n",
    "    savetofile(\"GE_masked\",GE_id)\n",
    "    savetofile(\"GE_hw\",GE_hw)\n",
    "    \n",
    "    \n",
    "    return"
   ]
  },
  {
   "cell_type": "code",
   "execution_count": 51,
   "id": "243c1bbc",
   "metadata": {},
   "outputs": [
    {
     "name": "stdout",
     "output_type": "stream",
     "text": [
      "computing for number of traces 100\n",
      "computing for number of traces 200\n"
     ]
    },
    {
     "data": {
      "image/png": "[encoded data removed]",
      "text/plain": [
       "<Figure size 720x432 with 2 Axes>"
      ]
     },
     "metadata": {
      "needs_background": "light"
     },
     "output_type": "display_data"
    }
   ],
   "source": [
    "get_SR_GE(correct_key)"
   ]
  },
  {
   "cell_type": "code",
   "execution_count": null,
   "id": "dfb6ba43",
   "metadata": {},
   "outputs": [],
   "source": [
    "import math\n",
    "math.log2(pow(9,16))"
   ]
  },
  {
   "cell_type": "code",
   "execution_count": null,
   "id": "f6d7bcb3",
   "metadata": {},
   "outputs": [],
   "source": []
  }
 ],
 "metadata": {
  "kernelspec": {
   "display_name": "Python 3",
   "language": "python",
   "name": "python3"
  },
  "language_info": {
   "codemirror_mode": {
    "name": "ipython",
    "version": 3
   },
   "file_extension": ".py",
   "mimetype": "text/x-python",
   "name": "python",
   "nbconvert_exporter": "python",
   "pygments_lexer": "ipython3",
   "version": "3.9.20"
  }
 },
 "nbformat": 4,
 "nbformat_minor": 5
}
