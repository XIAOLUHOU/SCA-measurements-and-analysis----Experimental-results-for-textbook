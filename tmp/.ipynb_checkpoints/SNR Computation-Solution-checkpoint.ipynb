{
 "cells": [
  {
   "cell_type": "code",
   "execution_count": 1,
   "id": "a737e9b6",
   "metadata": {},
   "outputs": [],
   "source": [
    "#imports\n",
    "import numpy as np\n",
    "import matplotlib.pyplot as plt\n",
    "import statistics\n",
    "import random\n",
    "import math\n",
    "\n",
    "# PRESENT Sbox\n",
    "S = [12,5,6,11,9,0,10,13,3,14,15,8,4,7,1,2]"
   ]
  },
  {
   "cell_type": "code",
   "execution_count": 2,
   "id": "bdecf09f",
   "metadata": {},
   "outputs": [],
   "source": [
    "#Loading data from the random dataset\n",
    "file_no_rk = 10000\n",
    "traces_rk = []\n",
    "plaintexts_rk = []\n",
    "keys_rk = []\n",
    "\n",
    "for i in range(file_no_rk):\n",
    "    with open(profiling_trace_folder + 'trace_'+str(i)+'.txt') as f:\n",
    "        lines = f.read().splitlines()\n",
    "        traces_rk.append(lines)\n",
    "\n",
    "with open(profiling_trace_folder + 'plaintexts.txt') as f:\n",
    "    plaintexts_rk = f.read().splitlines()\n",
    "\n",
    "with open(profiling_trace_folder + 'keys.txt') as f:\n",
    "    keys_rk = f.read().splitlines()\n",
    "\n",
    "trace_array_rk = np.array(traces_rk)\n",
    "trace_array_rk = trace_array_rk.astype(float)\n",
    "\n",
    "#number of time samples in one trace\n",
    "N_rk = 5000"
   ]
  },
  {
   "cell_type": "code",
   "execution_count": null,
   "id": "e2360807",
   "metadata": {},
   "outputs": [],
   "source": [
    "sbox_outputs = [[0 for i in range(16)] for j in range(file_no_rk)]\n",
    "#compute the intermediate values\n",
    "for j in range(file_no_rk):\n",
    "    for i in range(16):\n",
    "        pt = int(plaintexts_rk[j][15-i],16)#extract the target nibble of the plaintext\n",
    "        ky = int(keys_rk[j][15-i],16)#extract the target nibble of the first round key\n",
    "        v = S[ky^pt]#compute the output of the 0th Sbox for this plaintext\n",
    "        sbox_outputs[j][i] = v"
   ]
  },
  {
   "cell_type": "code",
   "execution_count": 4,
   "id": "04552319",
   "metadata": {},
   "outputs": [],
   "source": [
    "#Function for computing SNR, given time sample t\n",
    "def findPOI(nibble):\n",
    "    no_of_sets = 16\n",
    "    SNR_all = [0 for i in range(N_rk)]\n",
    "    \n",
    "    #for each time sample\n",
    "    for t in range(N_rk):\n",
    "        #no_of_sets sets\n",
    "        A = [[] for y in range(no_of_sets)] \n",
    "\n",
    "        #for each trace/plaintext\n",
    "        for j in range(file_no_rk):\n",
    "        #get the output of the target Sbox for this plaintext\n",
    "            v = sbox_outputs[j][nibble]\n",
    "            A[v].append(trace_array_rk[j][t])#group the leakage at time t according to this output\n",
    "\n",
    "        #compute the averages for leakages in each set\n",
    "        avg = []\n",
    "        for v in range(no_of_sets):\n",
    "            avg.append(statistics.mean(A[v]))\n",
    "\n",
    "        #variance of signal is given by the variance of leakage avgs\n",
    "        varX = np.var(avg)\n",
    "\n",
    "        #take leakage minus mean\n",
    "        LminusAvg = []\n",
    "        for v in range(no_of_sets):\n",
    "            for j in range(len(A[v])):\n",
    "                LminusAvg.append(A[v][j]-avg[v])\n",
    "        #variance of noise is given by variance of leakage minus mean\n",
    "        varN = np.var(LminusAvg)\n",
    "\n",
    "        #SNR is given by variance of signal divided by variance of noise\n",
    "        snr = varX/varN\n",
    "        SNR_all[t]=snr\n",
    "    \n",
    "    #print figure\n",
    "    plt.plot(SNR_all)\n",
    "    plt.show()\n",
    "    \n",
    "    #find the highest point\n",
    "    poi = index_max = np.argmax(SNR_all)\n",
    "    print(\"POI = \" + str(poi) + \"with SNR = \" + str(SNR_all[poi]))\n",
    "    return poi"
   ]
  },
  {
   "cell_type": "code",
   "execution_count": null,
   "id": "f5773f28",
   "metadata": {},
   "outputs": [],
   "source": [
    "findPOI(0)"
   ]
  },
  {
   "cell_type": "code",
   "execution_count": null,
   "id": "9ca58b85",
   "metadata": {},
   "outputs": [],
   "source": [
    "findPOI(3)"
   ]
  },
  {
   "cell_type": "code",
   "execution_count": null,
   "id": "355eb11f",
   "metadata": {},
   "outputs": [],
   "source": [
    "findPOI(5)"
   ]
  }
 ],
 "metadata": {
  "kernelspec": {
   "display_name": "Python 3",
   "language": "python",
   "name": "python3"
  },
  "language_info": {
   "codemirror_mode": {
    "name": "ipython",
    "version": 3
   },
   "file_extension": ".py",
   "mimetype": "text/x-python",
   "name": "python",
   "nbconvert_exporter": "python",
   "pygments_lexer": "ipython3",
   "version": "3.9.5"
  }
 },
 "nbformat": 4,
 "nbformat_minor": 5
}
