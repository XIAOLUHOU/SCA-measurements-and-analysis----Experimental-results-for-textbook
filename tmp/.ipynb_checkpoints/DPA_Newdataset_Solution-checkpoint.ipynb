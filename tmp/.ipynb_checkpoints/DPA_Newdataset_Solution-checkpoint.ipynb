{
 "cells": [
  {
   "cell_type": "code",
   "execution_count": 12,
   "id": "a76715d7",
   "metadata": {},
   "outputs": [],
   "source": [
    "#imports\n",
    "import numpy as np\n",
    "import matplotlib.pyplot as plt\n",
    "import statistics\n",
    "import random\n",
    "import math\n",
    "\n",
    "# PRESENT Sbox\n",
    "S = [12,5,6,11,9,0,10,13,3,14,15,8,4,7,1,2]"
   ]
  },
  {
   "cell_type": "code",
   "execution_count": 13,
   "id": "e11584e8",
   "metadata": {},
   "outputs": [],
   "source": [
    "#We first load data from the \"random plaintext dataset\", this set of traces will be used for our attack\n",
    "file_no = 5000\n",
    "traces = []\n",
    "plaintexts = []\n",
    "\n",
    "for i in range(file_no):\n",
    "    with open('../random_pt_dataset/trace_'+str(i)+'.txt') as f:\n",
    "        lines = f.read().splitlines()\n",
    "        traces.append(lines)\n",
    "\n",
    "with open('../random_pt_dataset/plaintexts.txt') as f:\n",
    "    plaintexts = f.read().splitlines()\n",
    "    \n",
    "trace_array = np.array(traces)\n",
    "trace_array = trace_array.astype(float)"
   ]
  },
  {
   "cell_type": "code",
   "execution_count": 14,
   "id": "91116cff",
   "metadata": {},
   "outputs": [],
   "source": [
    "#extract the plaintext nibble\n",
    "plaintext_array = []\n",
    "for i in range(file_no):\n",
    "    plaintext_array.append(int(plaintexts[i][12],16))#for recovering the 3rd nibble\n",
    "#     plaintext_array.append(int(plaintexts[i][10],16))#for recovering the 5th nibble\n",
    "plaintext_array = np.array(plaintext_array)\n",
    "\n",
    "#number of time samples in one trace in the random plaintext dataset\n",
    "N = 5000"
   ]
  },
  {
   "cell_type": "code",
   "execution_count": 15,
   "id": "6434978d",
   "metadata": {},
   "outputs": [],
   "source": [
    "#compute the correlation coefficients for all time samples\n",
    "def compute_corr_coeff():\n",
    "    #store hypotheses of intermediate values\n",
    "    iv = [[0 for x in range(file_no)] for y in range(16)] \n",
    "\n",
    "    for i in range(16): #for each key hypothesis\n",
    "        for j in range(file_no): #for each plaintext\n",
    "            pt = plaintext_array[j] # get the target nibble of the plaintext\n",
    "            iv[i][j] = S[i^pt] #compute the hypotheses of intermediate values\n",
    "\n",
    "\n",
    "    #store correlation coefficients for each time sample and each key hypothesis\n",
    "    corr_coeff = [[0 for x in range(N)] for y in range(16)] \n",
    "\n",
    "    for t in range(N):\n",
    "        for k in range(16): #for each key hypothesis\n",
    "            #compute coefficient between the leakages at time sample t and the hypotheses\n",
    "            corr_coeff[k][t] = np.corrcoef(trace_array[:,t],iv[k])[0][1]\n",
    "    return corr_coeff"
   ]
  },
  {
   "cell_type": "code",
   "execution_count": 16,
   "id": "533fb277",
   "metadata": {},
   "outputs": [],
   "source": [
    "# Plot the correlation\n",
    "def plot_corre(corr_coeff, correct_key):\n",
    "    x = []\n",
    "    \n",
    "    for t in range(N):\n",
    "        x.append(t)\n",
    "        \n",
    "    for k in range(16):\n",
    "        if k == correct_key:\n",
    "            plt.plot(x,corr_coeff[k],'b')\n",
    "        else:\n",
    "            plt.plot(x,corr_coeff[k],color=\"#808080\")\n",
    "        absolute_coefficients = []\n",
    "        for t in range(N):\n",
    "            absolute_coefficients.append(abs(corr_coeff[k][t]))\n",
    "        #printing the correlation coefficients\n",
    "        print(\"Maximum absolute correlation coefficient = \" + str(max(absolute_coefficients)) + \" for key hypothesis \" + str(k) + \" obtained at time sample \" + str(absolute_coefficients.index(max(absolute_coefficients))))\n",
    "    plt.show()\n",
    "    \n",
    "    return"
   ]
  },
  {
   "cell_type": "code",
   "execution_count": 17,
   "id": "3ee007c6",
   "metadata": {},
   "outputs": [],
   "source": [
    "corr_coeff = compute_corr_coeff()"
   ]
  },
  {
   "cell_type": "code",
   "execution_count": 11,
   "id": "64be401c",
   "metadata": {},
   "outputs": [
    {
     "name": "stdout",
     "output_type": "stream",
     "text": [
      "Maximum absolute correlation coefficient = 0.5337847421419936 for key hypothesis 0 obtained at time sample 428\n",
      "Maximum absolute correlation coefficient = 0.40709277320017323 for key hypothesis 1 obtained at time sample 1166\n",
      "Maximum absolute correlation coefficient = 0.2099383089407247 for key hypothesis 2 obtained at time sample 428\n",
      "Maximum absolute correlation coefficient = 0.3918870865432898 for key hypothesis 3 obtained at time sample 1515\n",
      "Maximum absolute correlation coefficient = 0.3946916351801717 for key hypothesis 4 obtained at time sample 1184\n",
      "Maximum absolute correlation coefficient = 0.34899685878988834 for key hypothesis 5 obtained at time sample 428\n",
      "Maximum absolute correlation coefficient = 0.7341318383984617 for key hypothesis 6 obtained at time sample 428\n",
      "Maximum absolute correlation coefficient = 0.16795121106558109 for key hypothesis 7 obtained at time sample 425\n",
      "Maximum absolute correlation coefficient = 0.3891710302552721 for key hypothesis 8 obtained at time sample 1555\n",
      "Maximum absolute correlation coefficient = 0.5307453567568571 for key hypothesis 9 obtained at time sample 428\n",
      "Maximum absolute correlation coefficient = 0.44606054223922287 for key hypothesis 10 obtained at time sample 428\n",
      "Maximum absolute correlation coefficient = 0.3253886580354913 for key hypothesis 11 obtained at time sample 428\n",
      "Maximum absolute correlation coefficient = 0.46486090630332577 for key hypothesis 12 obtained at time sample 1532\n",
      "Maximum absolute correlation coefficient = 0.3466176938113111 for key hypothesis 13 obtained at time sample 1184\n",
      "Maximum absolute correlation coefficient = 0.35314774881763056 for key hypothesis 14 obtained at time sample 1515\n",
      "Maximum absolute correlation coefficient = 0.31160040018221113 for key hypothesis 15 obtained at time sample 428\n"
     ]
    },
    {
     "data": {
      "image/png": "[encoded data removed]",
      "text/plain": [
       "<Figure size 432x288 with 1 Axes>"
      ]
     },
     "metadata": {
      "needs_background": "light"
     },
     "output_type": "display_data"
    }
   ],
   "source": [
    "#plot the correlation coefficients for recovering the 3rd nibble, which is equal to 6\n",
    "plot_corre(corr_coeff, 6)"
   ]
  },
  {
   "cell_type": "code",
   "execution_count": 18,
   "id": "c1cf9e9f",
   "metadata": {},
   "outputs": [
    {
     "name": "stdout",
     "output_type": "stream",
     "text": [
      "Maximum absolute correlation coefficient = 0.2361622198572755 for key hypothesis 0 obtained at time sample 1664\n",
      "Maximum absolute correlation coefficient = 0.43159357879414095 for key hypothesis 1 obtained at time sample 452\n",
      "Maximum absolute correlation coefficient = 0.478195342803508 for key hypothesis 2 obtained at time sample 452\n",
      "Maximum absolute correlation coefficient = 0.449511976135535 for key hypothesis 3 obtained at time sample 1664\n",
      "Maximum absolute correlation coefficient = 0.7492260764113008 for key hypothesis 4 obtained at time sample 452\n",
      "Maximum absolute correlation coefficient = 0.14427511834733006 for key hypothesis 5 obtained at time sample 449\n",
      "Maximum absolute correlation coefficient = 0.4139951871337404 for key hypothesis 6 obtained at time sample 452\n",
      "Maximum absolute correlation coefficient = 0.361445874197643 for key hypothesis 7 obtained at time sample 452\n",
      "Maximum absolute correlation coefficient = 0.45564273695175006 for key hypothesis 8 obtained at time sample 452\n",
      "Maximum absolute correlation coefficient = 0.3541175757827536 for key hypothesis 9 obtained at time sample 452\n",
      "Maximum absolute correlation coefficient = 0.4546852646715526 for key hypothesis 10 obtained at time sample 1664\n",
      "Maximum absolute correlation coefficient = 0.590032381604218 for key hypothesis 11 obtained at time sample 452\n",
      "Maximum absolute correlation coefficient = 0.3796487712160251 for key hypothesis 12 obtained at time sample 1625\n",
      "Maximum absolute correlation coefficient = 0.2565088324248592 for key hypothesis 13 obtained at time sample 452\n",
      "Maximum absolute correlation coefficient = 0.4850923972719954 for key hypothesis 14 obtained at time sample 452\n",
      "Maximum absolute correlation coefficient = 0.35375789485114933 for key hypothesis 15 obtained at time sample 1088\n"
     ]
    },
    {
     "data": {
      "image/png": "[encoded data removed]",
      "text/plain": [
       "<Figure size 432x288 with 1 Axes>"
      ]
     },
     "metadata": {
      "needs_background": "light"
     },
     "output_type": "display_data"
    }
   ],
   "source": [
    "#plot the correlation coefficients for recovering the 5th nibble, which is equal to 4\n",
    "#need to make change in the 3rd cell above\n",
    "plot_corre(corr_coeff, 4)"
   ]
  },
  {
   "cell_type": "code",
   "execution_count": null,
   "id": "5f7470a1",
   "metadata": {},
   "outputs": [],
   "source": []
  }
 ],
 "metadata": {
  "kernelspec": {
   "display_name": "Python 3",
   "language": "python",
   "name": "python3"
  },
  "language_info": {
   "codemirror_mode": {
    "name": "ipython",
    "version": 3
   },
   "file_extension": ".py",
   "mimetype": "text/x-python",
   "name": "python",
   "nbconvert_exporter": "python",
   "pygments_lexer": "ipython3",
   "version": "3.9.5"
  }
 },
 "nbformat": 4,
 "nbformat_minor": 5
}
