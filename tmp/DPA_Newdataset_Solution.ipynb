{
 "cells": [
  {
   "cell_type": "code",
   "execution_count": 1,
   "id": "a76715d7",
   "metadata": {},
   "outputs": [],
   "source": [
    "#imports\n",
    "import numpy as np\n",
    "import matplotlib.pyplot as plt\n",
    "import statistics\n",
    "import random\n",
    "import math\n",
    "\n",
    "# PRESENT Sbox\n",
    "S = [12,5,6,11,9,0,10,13,3,14,15,8,4,7,1,2]"
   ]
  },
  {
   "cell_type": "code",
   "execution_count": 3,
   "id": "e11584e8",
   "metadata": {},
   "outputs": [],
   "source": [
    "#We first load data from the \"random plaintext dataset\", this set of traces will be used for our attack\n",
    "file_no = 100\n",
    "traces = []\n",
    "plaintexts = []\n",
    "\n",
    "for i in range(file_no):\n",
    "    with open('../Assignment_materials/attack_traces/trace_'+str(i)+'.txt') as f:\n",
    "        lines = f.read().splitlines()\n",
    "        traces.append(lines)\n",
    "\n",
    "with open('../Assignment_materials/attack_traces/plaintexts.txt') as f:\n",
    "    plaintexts = f.read().splitlines()\n",
    "    \n",
    "trace_array = np.array(traces)\n",
    "trace_array = trace_array.astype(float)"
   ]
  },
  {
   "cell_type": "code",
   "execution_count": 4,
   "id": "91116cff",
   "metadata": {},
   "outputs": [],
   "source": [
    "#extract the plaintext nibble\n",
    "plaintext_array = []\n",
    "for i in range(file_no):\n",
    "    plaintext_array.append(int(plaintexts[i][15],16))#for recovering the 0th nibble\n",
    "plaintext_array = np.array(plaintext_array)\n",
    "\n",
    "#number of time samples in one trace in the random plaintext dataset\n",
    "N = 5000"
   ]
  },
  {
   "cell_type": "code",
   "execution_count": 5,
   "id": "6434978d",
   "metadata": {},
   "outputs": [],
   "source": [
    "#compute the correlation coefficients for all time samples\n",
    "def compute_corr_coeff():\n",
    "    #store hypotheses of intermediate values\n",
    "    iv = [[0 for x in range(file_no)] for y in range(16)] \n",
    "\n",
    "    for i in range(16): #for each key hypothesis\n",
    "        for j in range(file_no): #for each plaintext\n",
    "            pt = plaintext_array[j] # get the target nibble of the plaintext\n",
    "            iv[i][j] = S[i^pt] #compute the hypotheses of intermediate values\n",
    "\n",
    "\n",
    "    #store correlation coefficients for each time sample and each key hypothesis\n",
    "    corr_coeff = [[0 for x in range(N)] for y in range(16)] \n",
    "\n",
    "    for t in range(N):\n",
    "        for k in range(16): #for each key hypothesis\n",
    "            #compute coefficient between the leakages at time sample t and the hypotheses\n",
    "            corr_coeff[k][t] = np.corrcoef(trace_array[:,t],iv[k])[0][1]\n",
    "    return corr_coeff"
   ]
  },
  {
   "cell_type": "code",
   "execution_count": 6,
   "id": "533fb277",
   "metadata": {},
   "outputs": [],
   "source": [
    "# Plot the correlation\n",
    "def plot_corre(corr_coeff, correct_key):\n",
    "    x = []\n",
    "    \n",
    "    for t in range(N):\n",
    "        x.append(t)\n",
    "        \n",
    "    for k in range(16):\n",
    "        if k == correct_key:\n",
    "            plt.plot(x,corr_coeff[k],'b')\n",
    "        else:\n",
    "            plt.plot(x,corr_coeff[k],color=\"#808080\")\n",
    "        absolute_coefficients = []\n",
    "        for t in range(N):\n",
    "            absolute_coefficients.append(abs(corr_coeff[k][t]))\n",
    "        #printing the correlation coefficients\n",
    "        print(\"Maximum absolute correlation coefficient = \" + str(max(absolute_coefficients)) + \" for key hypothesis \" + str(k) + \" obtained at time sample \" + str(absolute_coefficients.index(max(absolute_coefficients))))\n",
    "    plt.show()\n",
    "    \n",
    "    return"
   ]
  },
  {
   "cell_type": "code",
   "execution_count": 7,
   "id": "3ee007c6",
   "metadata": {},
   "outputs": [],
   "source": [
    "corr_coeff = compute_corr_coeff()"
   ]
  },
  {
   "cell_type": "code",
   "execution_count": 8,
   "id": "64be401c",
   "metadata": {},
   "outputs": [
    {
     "name": "stdout",
     "output_type": "stream",
     "text": [
      "Maximum absolute correlation coefficient = 0.6259266956051993 for key hypothesis 0 obtained at time sample 1369\n",
      "Maximum absolute correlation coefficient = 0.46811771222392484 for key hypothesis 1 obtained at time sample 1310\n",
      "Maximum absolute correlation coefficient = 0.4469883059743681 for key hypothesis 2 obtained at time sample 1306\n",
      "Maximum absolute correlation coefficient = 0.48907057927767844 for key hypothesis 3 obtained at time sample 1328\n",
      "Maximum absolute correlation coefficient = 0.4228914423009141 for key hypothesis 4 obtained at time sample 1328\n",
      "Maximum absolute correlation coefficient = 0.4518735804186682 for key hypothesis 5 obtained at time sample 1327\n",
      "Maximum absolute correlation coefficient = 0.3555956850741106 for key hypothesis 6 obtained at time sample 938\n",
      "Maximum absolute correlation coefficient = 0.5384628084524027 for key hypothesis 7 obtained at time sample 3357\n",
      "Maximum absolute correlation coefficient = 0.5468873227527046 for key hypothesis 8 obtained at time sample 1306\n",
      "Maximum absolute correlation coefficient = 0.43628427631406547 for key hypothesis 9 obtained at time sample 1306\n",
      "Maximum absolute correlation coefficient = 0.4035149736955922 for key hypothesis 10 obtained at time sample 1354\n",
      "Maximum absolute correlation coefficient = 0.28752572788066566 for key hypothesis 11 obtained at time sample 1395\n",
      "Maximum absolute correlation coefficient = 0.35233962161259336 for key hypothesis 12 obtained at time sample 4478\n",
      "Maximum absolute correlation coefficient = 0.5157863008277573 for key hypothesis 13 obtained at time sample 1306\n",
      "Maximum absolute correlation coefficient = 0.3385640703573287 for key hypothesis 14 obtained at time sample 3432\n",
      "Maximum absolute correlation coefficient = 0.8055308230009022 for key hypothesis 15 obtained at time sample 392\n"
     ]
    },
    {
     "data": {
      "image/png": "[encoded data removed]",
      "text/plain": [
       "<Figure size 432x288 with 1 Axes>"
      ]
     },
     "metadata": {
      "needs_background": "light"
     },
     "output_type": "display_data"
    }
   ],
   "source": [
    "#plot the correlation coefficients for recovering the 3rd nibble, which is equal to 6\n",
    "plot_corre(corr_coeff, 15)"
   ]
  },
  {
   "cell_type": "code",
   "execution_count": null,
   "id": "5f7470a1",
   "metadata": {},
   "outputs": [],
   "source": []
  }
 ],
 "metadata": {
  "kernelspec": {
   "display_name": "Python 3",
   "language": "python",
   "name": "python3"
  },
  "language_info": {
   "codemirror_mode": {
    "name": "ipython",
    "version": 3
   },
   "file_extension": ".py",
   "mimetype": "text/x-python",
   "name": "python",
   "nbconvert_exporter": "python",
   "pygments_lexer": "ipython3",
   "version": "3.9.5"
  }
 },
 "nbformat": 4,
 "nbformat_minor": 5
}
