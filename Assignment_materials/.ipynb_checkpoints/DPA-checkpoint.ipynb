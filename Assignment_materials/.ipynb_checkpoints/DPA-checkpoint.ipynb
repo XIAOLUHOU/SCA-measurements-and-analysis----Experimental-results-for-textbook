{
 "cells": [
  {
   "cell_type": "code",
   "execution_count": null,
   "id": "785dc44d",
   "metadata": {},
   "outputs": [],
   "source": [
    "#imports\n",
    "import numpy as np\n",
    "import matplotlib.pyplot as plt\n",
    "import statistics\n",
    "import random\n",
    "import math\n",
    "\n",
    "# Hamming weights of numbers 0-15\n",
    "HW = [0,1,1,2,1,2,2,3,1,2,2,3,2,3,3,4]\n",
    "\n",
    "# PRESENT Sbox\n",
    "S = [12,5,6,11,9,0,10,13,3,14,15,8,4,7,1,2]"
   ]
  },
  {
   "cell_type": "code",
   "execution_count": null,
   "id": "028f22c0",
   "metadata": {},
   "outputs": [],
   "source": [
    "#We first load data from the \"random plaintext dataset\", this set of traces will be used for our attack\n",
    "file_no = 5000\n",
    "traces = []\n",
    "plaintexts = []\n",
    "\n",
    "for i in range(file_no):\n",
    "    with open('../random_pt_dataset/trace_'+str(i)+'.txt') as f:\n",
    "        lines = f.read().splitlines()\n",
    "        traces.append(lines)\n",
    "\n",
    "with open('../random_pt_dataset/plaintexts.txt') as f:\n",
    "    plaintexts = f.read().splitlines()\n",
    "    \n",
    "trace_array = np.array(traces)\n",
    "trace_array = trace_array.astype(float)"
   ]
  },
  {
   "cell_type": "code",
   "execution_count": null,
   "id": "6a82538b",
   "metadata": {},
   "outputs": [],
   "source": [
    "#the target key nibble\n",
    "correct_key = 9\n",
    "\n",
    "#extract the plaintext nibble\n",
    "plaintext_array = []\n",
    "for i in range(file_no):\n",
    "    plaintext_array.append(int(plaintexts[i][15],16))\n",
    "plaintext_array = np.array(plaintext_array)\n",
    "\n",
    "#number of time samples in one trace in the random plaintext dataset\n",
    "N = 5000"
   ]
  },
  {
   "cell_type": "code",
   "execution_count": null,
   "id": "ad9a0081",
   "metadata": {},
   "outputs": [],
   "source": [
    "#compute the correlation coefficients for all time samples given the leakage model\n",
    "#0: identity leakage model\n",
    "#1: Hamming weight leakage model\n",
    "def compute_corr_coeff():\n",
    "    #store hypotheses of intermediate values\n",
    "    iv = [[0 for x in range(file_no)] for y in range(16)] \n",
    "\n",
    "    for i in range(16): #for each key hypothesis\n",
    "        for j in range(file_no): #for each plaintext\n",
    "            pt = plaintext_array[j] # get the target nibble of the plaintext\n",
    "            iv[i][j] = S[i^pt] #compute the hypotheses of intermediate values\n",
    "\n",
    "\n",
    "    #store correlation coefficients for each time sample and each key hypothesis\n",
    "    corr_coeff = [[0 for x in range(N)] for y in range(16)] \n",
    "\n",
    "    for t in range(N):\n",
    "        for k in range(16): #for each key hypothesis\n",
    "            #compute coefficient between the leakages at time sample t and the hypotheses\n",
    "#             corr_coeff[k][t] = abs(np.corrcoef(trace_array[:,t],iv[k])[0][1])\n",
    "            corr_coeff[k][t] = np.corrcoef(trace_array[:,t],iv[k])[0][1]\n",
    "    return corr_coeff"
   ]
  },
  {
   "cell_type": "code",
   "execution_count": null,
   "id": "88af76e3",
   "metadata": {},
   "outputs": [],
   "source": [
    "# Plot the correlation\n",
    "def plot_corre(corr_coeff):\n",
    "    x = []\n",
    "    for t in range(N):\n",
    "        x.append(t)\n",
    "    for k in range(16):\n",
    "        if k == correct_key:\n",
    "            plt.plot(x,corr_coeff[k],'b')\n",
    "        else:\n",
    "            plt.plot(x,corr_coeff[k],color=\"#808080\")\n",
    "        #printing the correlation coefficients\n",
    "        print(max(corr_coeff[k]),k,corr_coeff[k].index(max(corr_coeff[k])))\n",
    "    plt.show()\n",
    "    \n",
    "    return"
   ]
  },
  {
   "cell_type": "code",
   "execution_count": null,
   "id": "d1f2a0bf",
   "metadata": {},
   "outputs": [],
   "source": [
    "corr_coeff = compute_corr_coeff(0)"
   ]
  },
  {
   "cell_type": "code",
   "execution_count": null,
   "id": "87f81d76",
   "metadata": {},
   "outputs": [],
   "source": [
    "#plot the correlation coefficients\n",
    "plot_corre(corr_coeff)"
   ]
  }
 ],
 "metadata": {
  "kernelspec": {
   "display_name": "Python 3",
   "language": "python",
   "name": "python3"
  },
  "language_info": {
   "codemirror_mode": {
    "name": "ipython",
    "version": 3
   },
   "file_extension": ".py",
   "mimetype": "text/x-python",
   "name": "python",
   "nbconvert_exporter": "python",
   "pygments_lexer": "ipython3",
   "version": "3.9.5"
  }
 },
 "nbformat": 4,
 "nbformat_minor": 5
}
