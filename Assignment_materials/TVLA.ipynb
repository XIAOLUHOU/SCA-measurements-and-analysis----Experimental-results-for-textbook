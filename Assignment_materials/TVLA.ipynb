{
 "cells": [
  {
   "cell_type": "code",
   "execution_count": 1,
   "id": "f54b2bfa",
   "metadata": {},
   "outputs": [],
   "source": [
    "#imports\n",
    "import numpy as np\n",
    "import matplotlib.pyplot as plt\n",
    "import statistics\n",
    "import random\n",
    "import math\n",
    "\n",
    "# PRESENT Sbox\n",
    "S = [12,5,6,11,9,0,10,13,3,14,15,8,4,7,1,2]"
   ]
  },
  {
   "cell_type": "code",
   "execution_count": 2,
   "id": "b5dabd28",
   "metadata": {},
   "outputs": [],
   "source": [
    "#Loading data from the random dataset\n",
    "file_no_rk = 10000\n",
    "traces_rk = []\n",
    "plaintexts_rk = []\n",
    "keys_rk = []\n",
    "\n",
    "for i in range(file_no_rk):\n",
    "    with open('../random_dataset/trace_'+str(i)+'.txt') as f:\n",
    "        lines = f.read().splitlines()\n",
    "        traces_rk.append(lines)\n",
    "\n",
    "with open('../random_dataset/plaintexts.txt') as f:\n",
    "    plaintexts_rk = f.read().splitlines()\n",
    "\n",
    "with open('../random_dataset/keys.txt') as f:\n",
    "    keys_rk = f.read().splitlines()\n",
    "\n",
    "trace_array_rk = np.array(traces_rk)\n",
    "trace_array_rk = trace_array_rk.astype(float)\n",
    "\n",
    "#extract the plaintext nibble\n",
    "plaintext_array_rk = []\n",
    "for i in range(file_no_rk):\n",
    "    plaintext_array_rk.append(int(plaintexts_rk[i][15],16))\n",
    "plaintext_array_rk = np.array(plaintext_array_rk)\n",
    "\n",
    "\n",
    "#extract the key nibble\n",
    "keys_array_rk = []\n",
    "for i in range(file_no_rk):\n",
    "    keys_array_rk.append(int(keys_rk[i][15],16))\n",
    "keys_array_rk = np.array(keys_array_rk)\n",
    "\n",
    "q = 5000 #number of time samples"
   ]
  },
  {
   "cell_type": "code",
   "execution_count": 3,
   "id": "4667956c",
   "metadata": {},
   "outputs": [],
   "source": [
    "def get_two_dataset(fixedvalue1,fixedvalue2):\n",
    "    trace_1=[]#define an array to store traces in the first dataset\n",
    "    trace_2=[]#define an array to store traces in the second dataset\n",
    "    \n",
    "    #get all traces available for the two datasets\n",
    "    for j in range(file_no_rk):\n",
    "        #compute the intermediate value of the 0th Sbox output corresponding to each trace\n",
    "        v = S[plaintext_array_rk[j]^keys_array_rk[j]]\n",
    "        if v == fixedvalue1:\n",
    "            trace_1.append(trace_array_rk[j])\n",
    "        elif v == fixedvalue2:\n",
    "            trace_2.append(trace_array_rk[j])\n",
    "\n",
    "    trace_1=np.array(trace_1)\n",
    "    trace_2=np.array(trace_2)\n",
    "    \n",
    "    return trace_1, trace_2"
   ]
  },
  {
   "cell_type": "code",
   "execution_count": 4,
   "id": "b61296c1",
   "metadata": {},
   "outputs": [],
   "source": [
    "#compute tvla, taking signal to be given by sbox output\n",
    "def TVLA(trace_1,trace_2):\n",
    "    \n",
    "    M1 = len(trace_1)\n",
    "    M2 = len(trace_2)\n",
    "\n",
    "    #sample means for dataset one and dataset two at each time sample\n",
    "    mean1 = trace_1.mean(axis=0)\n",
    "    mean2 = trace_2.mean(axis=0)\n",
    "    print(\"sample mean for dataset one at POI=392: \" + str(mean1[392]))\n",
    "    print(\"sample mean for dataset two at POI=392: \" + str(mean2[392]))\n",
    "    \n",
    "    meandif = mean1 - mean2\n",
    "    #variance for leakages at each time sample\n",
    "    var1 = trace_1.var(axis=0)\n",
    "    var2 = trace_2.var(axis=0)\n",
    "    #sample variance for dataset one and dataset two at each time sample\n",
    "    scale1 = M1/(M1-1)#sample variance divide by sample_size -1 instead of sample_size\n",
    "    scale2 = M2/(M2-1)#sample variance divide by sample_size -1 instead of sample_size\n",
    "    var1 = np.multiply(var1,scale1)\n",
    "    var2 = np.multiply(var2,scale2)\n",
    "    print(\"sample variance for dataset one at POI=392: \" + str(var1[392]))\n",
    "    print(\"sample variance for dataset two at POI=392: \" + str(var2[392]))\n",
    "    \n",
    "    tvla = []\n",
    "    \n",
    "    #student's t-test\n",
    "    sp = np.multiply(var1,(M1-1)/(M1+M2-2))+np.multiply(var2,(M2-1)/(M1+M2-2))\n",
    "    for t in range(q):\n",
    "        tvalue = meandif[t]/np.sqrt(sp[t]*(1/M1+1/M2))\n",
    "        tvla.append(tvalue)\n",
    "    \n",
    "            \n",
    "    plt.plot(tvla)\n",
    "    plt.show()\n",
    "    print(\"tvla at POI=392: \" + str(tvla[392]))\n",
    "    return"
   ]
  },
  {
   "cell_type": "code",
   "execution_count": 5,
   "id": "e713a9f7",
   "metadata": {},
   "outputs": [],
   "source": [
    "trace_1,trace_2 = get_two_dataset(0,15)"
   ]
  },
  {
   "cell_type": "code",
   "execution_count": 6,
   "id": "5ebf42be",
   "metadata": {},
   "outputs": [
    {
     "name": "stdout",
     "output_type": "stream",
     "text": [
      "sample mean for dataset one at POI=392: -0.042455823639589906\n",
      "sample mean for dataset two at POI=392: -0.05390594998079877\n",
      "sample variance for dataset one at POI=392: 2.2961949692119577e-06\n",
      "sample variance for dataset two at POI=392: 2.7378374812141945e-06\n"
     ]
    },
    {
     "data": {
      "image/png": "[encoded data removed]",
      "text/plain": [
       "<Figure size 432x288 with 1 Axes>"
      ]
     },
     "metadata": {
      "needs_background": "light"
     },
     "output_type": "display_data"
    },
    {
     "name": "stdout",
     "output_type": "stream",
     "text": [
      "tvla at POI=392: 129.27023928368283\n"
     ]
    }
   ],
   "source": [
    "TVLA(trace_1,trace_2)"
   ]
  },
  {
   "cell_type": "code",
   "execution_count": null,
   "id": "d163aca9",
   "metadata": {},
   "outputs": [],
   "source": []
  }
 ],
 "metadata": {
  "kernelspec": {
   "display_name": "Python 3",
   "language": "python",
   "name": "python3"
  },
  "language_info": {
   "codemirror_mode": {
    "name": "ipython",
    "version": 3
   },
   "file_extension": ".py",
   "mimetype": "text/x-python",
   "name": "python",
   "nbconvert_exporter": "python",
   "pygments_lexer": "ipython3",
   "version": "3.9.5"
  }
 },
 "nbformat": 4,
 "nbformat_minor": 5
}
