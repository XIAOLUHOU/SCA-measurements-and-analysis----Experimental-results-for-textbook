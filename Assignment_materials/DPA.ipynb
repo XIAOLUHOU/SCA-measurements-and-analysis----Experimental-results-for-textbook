{
 "cells": [
  {
   "cell_type": "code",
   "execution_count": 1,
   "id": "a76715d7",
   "metadata": {},
   "outputs": [],
   "source": [
    "#imports\n",
    "import numpy as np\n",
    "import matplotlib.pyplot as plt\n",
    "import statistics\n",
    "import random\n",
    "import math\n",
    "\n",
    "# Hamming weights of numbers 0-15\n",
    "HW = [0,1,1,2,1,2,2,3,1,2,2,3,2,3,3,4]\n",
    "\n",
    "# PRESENT Sbox\n",
    "S = [12,5,6,11,9,0,10,13,3,14,15,8,4,7,1,2]"
   ]
  },
  {
   "cell_type": "code",
   "execution_count": 2,
   "id": "e11584e8",
   "metadata": {},
   "outputs": [],
   "source": [
    "#We first load data from the \"random plaintext dataset\", this set of traces will be used for our attack\n",
    "file_no = 5000\n",
    "traces = []\n",
    "plaintexts = []\n",
    "\n",
    "for i in range(file_no):\n",
    "    with open('../random_pt_dataset/trace_'+str(i)+'.txt') as f:\n",
    "        lines = f.read().splitlines()\n",
    "        traces.append(lines)\n",
    "\n",
    "with open('../random_pt_dataset/plaintexts.txt') as f:\n",
    "    plaintexts = f.read().splitlines()\n",
    "    \n",
    "trace_array = np.array(traces)\n",
    "trace_array = trace_array.astype(float)"
   ]
  },
  {
   "cell_type": "code",
   "execution_count": 3,
   "id": "91116cff",
   "metadata": {},
   "outputs": [],
   "source": [
    "#extract the plaintext nibble\n",
    "plaintext_array = []\n",
    "for i in range(file_no):\n",
    "    plaintext_array.append(int(plaintexts[i][15],16))\n",
    "plaintext_array = np.array(plaintext_array)\n",
    "\n",
    "#number of time samples in one trace in the random plaintext dataset\n",
    "N = 5000"
   ]
  },
  {
   "cell_type": "code",
   "execution_count": 4,
   "id": "6434978d",
   "metadata": {},
   "outputs": [],
   "source": [
    "#compute the correlation coefficients for all time samples\n",
    "def compute_corr_coeff():\n",
    "    #store hypotheses of intermediate values\n",
    "    iv = [[0 for x in range(file_no)] for y in range(16)] \n",
    "\n",
    "    for i in range(16): #for each key hypothesis\n",
    "        for j in range(file_no): #for each plaintext\n",
    "            pt = plaintext_array[j] # get the target nibble of the plaintext\n",
    "            iv[i][j] = S[i^pt] #compute the hypotheses of intermediate values\n",
    "\n",
    "\n",
    "    #store correlation coefficients for each time sample and each key hypothesis\n",
    "    corr_coeff = [[0 for x in range(N)] for y in range(16)] \n",
    "\n",
    "    for t in range(N):\n",
    "        for k in range(16): #for each key hypothesis\n",
    "            #compute coefficient between the leakages at time sample t and the hypotheses\n",
    "            corr_coeff[k][t] = np.corrcoef(trace_array[:,t],iv[k])[0][1]\n",
    "    return corr_coeff"
   ]
  },
  {
   "cell_type": "code",
   "execution_count": 34,
   "id": "533fb277",
   "metadata": {},
   "outputs": [],
   "source": [
    "#the target key nibble\n",
    "correct_key = 9\n",
    "\n",
    "# Plot the correlation\n",
    "def plot_corre(corr_coeff):\n",
    "    x = []\n",
    "    \n",
    "    for t in range(N):\n",
    "        x.append(t)\n",
    "        \n",
    "    for k in range(16):\n",
    "        if k == correct_key:\n",
    "            plt.plot(x,corr_coeff[k],'b')\n",
    "        else:\n",
    "            plt.plot(x,corr_coeff[k],color=\"#808080\")\n",
    "        absolute_coefficients = []\n",
    "        for t in range(N):\n",
    "            absolute_coefficients.append(abs(corr_coeff[k][t]))\n",
    "        #printing the correlation coefficients\n",
    "        print(\"Maximum absolute correlation coefficient = \" + str(max(absolute_coefficients)) + \" for key hypothesis \" + str(k) + \" obtained at time sample \" + str(absolute_coefficients.index(max(absolute_coefficients))))\n",
    "    plt.show()\n",
    "    \n",
    "    return"
   ]
  },
  {
   "cell_type": "code",
   "execution_count": 18,
   "id": "3ee007c6",
   "metadata": {},
   "outputs": [],
   "source": [
    "corr_coeff = compute_corr_coeff()"
   ]
  },
  {
   "cell_type": "code",
   "execution_count": 35,
   "id": "64be401c",
   "metadata": {},
   "outputs": [
    {
     "name": "stdout",
     "output_type": "stream",
     "text": [
      "Maximum absolute correlation coefficient = 0.2773616383432746 for key hypothesis 0 obtained at time sample 392\n",
      "Maximum absolute correlation coefficient = 0.3989460527872324 for key hypothesis 1 obtained at time sample 392\n",
      "Maximum absolute correlation coefficient = 0.34343947704336314 for key hypothesis 2 obtained at time sample 1328\n",
      "Maximum absolute correlation coefficient = 0.4640562086931642 for key hypothesis 3 obtained at time sample 1328\n",
      "Maximum absolute correlation coefficient = 0.3749223846321691 for key hypothesis 4 obtained at time sample 392\n",
      "Maximum absolute correlation coefficient = 0.41114720117375614 for key hypothesis 5 obtained at time sample 392\n",
      "Maximum absolute correlation coefficient = 0.5483805379334337 for key hypothesis 6 obtained at time sample 392\n",
      "Maximum absolute correlation coefficient = 0.4180828439723636 for key hypothesis 7 obtained at time sample 1310\n",
      "Maximum absolute correlation coefficient = 0.16625545063410585 for key hypothesis 8 obtained at time sample 389\n",
      "Maximum absolute correlation coefficient = 0.7624537188319129 for key hypothesis 9 obtained at time sample 392\n",
      "Maximum absolute correlation coefficient = 0.31266182356320266 for key hypothesis 10 obtained at time sample 392\n",
      "Maximum absolute correlation coefficient = 0.4080445357391853 for key hypothesis 11 obtained at time sample 1328\n",
      "Maximum absolute correlation coefficient = 0.3988192775271856 for key hypothesis 12 obtained at time sample 392\n",
      "Maximum absolute correlation coefficient = 0.21763151096247027 for key hypothesis 13 obtained at time sample 1310\n",
      "Maximum absolute correlation coefficient = 0.4023310677702057 for key hypothesis 14 obtained at time sample 1397\n",
      "Maximum absolute correlation coefficient = 0.4451787949733582 for key hypothesis 15 obtained at time sample 392\n"
     ]
    },
    {
     "data": {
      "image/png": "[encoded data removed]",
      "text/plain": [
       "<Figure size 432x288 with 1 Axes>"
      ]
     },
     "metadata": {
      "needs_background": "light"
     },
     "output_type": "display_data"
    }
   ],
   "source": [
    "#plot the correlation coefficients\n",
    "plot_corre(corr_coeff)"
   ]
  },
  {
   "cell_type": "code",
   "execution_count": null,
   "id": "c1cf9e9f",
   "metadata": {},
   "outputs": [],
   "source": []
  }
 ],
 "metadata": {
  "kernelspec": {
   "display_name": "Python 3",
   "language": "python",
   "name": "python3"
  },
  "language_info": {
   "codemirror_mode": {
    "name": "ipython",
    "version": 3
   },
   "file_extension": ".py",
   "mimetype": "text/x-python",
   "name": "python",
   "nbconvert_exporter": "python",
   "pygments_lexer": "ipython3",
   "version": "3.9.5"
  }
 },
 "nbformat": 4,
 "nbformat_minor": 5
}
